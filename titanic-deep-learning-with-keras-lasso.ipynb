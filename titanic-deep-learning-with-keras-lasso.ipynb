{
 "cells": [
  {
   "cell_type": "markdown",
   "metadata": {
    "_uuid": "762db3adf372aea5d13bd50b8aeeac7f561e6f3f"
   },
   "source": [
    "**This is my 2nd Kernel and is kind of version 2 to my previous kernel which can be found here**\n",
    "\n",
    "(http://www.kaggle.com/rp1611/step-by-step-guide-to-leader-board-top-10) \n",
    "\n",
    "Along with all usual visualization, I have used Keras to build a simple NN model. I am just providing you a platform which you can finetune to get better results with NN.\n",
    "\n",
    "All the existing variables along with feature engineered once are available in combined data. Use the notebook to finetune your model by adding/dropping/modifying the existing features. \n",
    "\n",
    "**If you like this notebook or find this notebook helpful, Please upvote and/or leave a comment**"
   ]
  },
  {
   "cell_type": "markdown",
   "metadata": {
    "_uuid": "5a2d85d3533c25ba9e035977e994265429b8b744"
   },
   "source": [
    "**What would be the workflow?**\n",
    "\n",
    "I will keep it simple & crisp rather than using buzz words & useless data science frameworks. Frankly speaking no one cares. \n",
    "\n",
    "This will help you to stay on track. So here is the workflow.\n",
    "\n",
    "**1. Problem Identification**\n",
    "\n",
    "**2. What data do we have?**\n",
    "\n",
    "**3. Exploratory data analysis**\n",
    "\n",
    "**4. Data preparation including feature engineering**\n",
    "\n",
    "**5. Developing a Neural Network model**\n",
    "\n",
    "**6. Predict using Neural Network**\n",
    "\n",
    "**7. Conclusions**\n",
    "\n",
    "That's all you need to solve a data science problem."
   ]
  },
  {
   "cell_type": "markdown",
   "metadata": {
    "_uuid": "b6fbf513e47c6919dc4f11afde43d826d51aa578"
   },
   "source": [
    "**Problem Identification** \n",
    "\n",
    "**Best Practice -** The most important part of any project is correct problem identification. Before you jump to \"How to do this\" part like typical Data Scientists, understand \"What/Why\" part.  \n",
    "Understand the problem first and draft a rough strategy on a piece of paper to start with. Write down things like what are you expected to do & what data you might need or let's say what all algorithms you plan to use. \n",
    "\n",
    "Now the <a href=\"https://www.kaggle.com/c/titanic/\"> Titanic challenge</a>  hosted by Kaggle is a competition in which the goal is to predict the survival or the death of a given passenger based on a set of variables describing  age, sex, or passenger's class on the boat.\n",
    "\n",
    "![](http://www.tyro.com/content/uploads/2016/04/blog-twenty-one-business-icebergs-sink-business-280416.jpg)\n",
    "\n",
    "So it is a classification problem and you are expected to predict Survived as 1 and Died as 0."
   ]
  },
  {
   "cell_type": "markdown",
   "metadata": {
    "_uuid": "3e92ce3869da9c0f748b8bf847e3a1fd8f43e4ea"
   },
   "source": [
    "**2. What data do we have?**\n",
    "\n",
    "\n",
    "Let's import necessary libraries & bring in the datasets in Python environment first. Once we have the datasets in Python environment we can slice & dice the data to understand what we have and what is missing."
   ]
  },
  {
   "cell_type": "code",
   "execution_count": 1,
   "metadata": {
    "_uuid": "ba2388a955ff87a842421a8dff346e387c943155"
   },
   "outputs": [],
   "source": [
    "# Import the python libraries\n",
    "import pandas as pd\n",
    "import numpy as np\n",
    "import seaborn as sns\n",
    "import matplotlib.pyplot as plt \n",
    "get_ipython().run_line_magic('matplotlib', 'inline')\n",
    "sns.set(style='white', context='notebook', palette='deep')\n",
    "import warnings\n",
    "warnings.filterwarnings('ignore')\n",
    "\n",
    "# Read the datasets\n",
    "train = pd.read_csv(\"../input/train.csv\")\n",
    "test = pd.read_csv(\"../input/test.csv\")\n",
    "IDtest = pd.DataFrame(test[\"PassengerId\"])"
   ]
  },
  {
   "cell_type": "code",
   "execution_count": 2,
   "metadata": {
    "_uuid": "1b16faaf7e8107877fea47a9017df9398bbccb34"
   },
   "outputs": [
    {
     "name": "stdout",
     "output_type": "stream",
     "text": [
      "<class 'pandas.core.frame.DataFrame'>\n",
      "RangeIndex: 891 entries, 0 to 890\n",
      "Data columns (total 12 columns):\n",
      "PassengerId    891 non-null int64\n",
      "Survived       891 non-null int64\n",
      "Pclass         891 non-null int64\n",
      "Name           891 non-null object\n",
      "Sex            891 non-null object\n",
      "Age            714 non-null float64\n",
      "SibSp          891 non-null int64\n",
      "Parch          891 non-null int64\n",
      "Ticket         891 non-null object\n",
      "Fare           891 non-null float64\n",
      "Cabin          204 non-null object\n",
      "Embarked       889 non-null object\n",
      "dtypes: float64(2), int64(5), object(5)\n",
      "memory usage: 83.6+ KB\n"
     ]
    }
   ],
   "source": [
    "train.info() # We have 891 observations & 12 columns. See the mix of variable types."
   ]
  },
  {
   "cell_type": "code",
   "execution_count": 3,
   "metadata": {
    "_uuid": "55403ed1cf88e287b6ee4df3d3a4f59dad961c36"
   },
   "outputs": [
    {
     "data": {
      "text/html": [
       "<div>\n",
       "<style scoped>\n",
       "    .dataframe tbody tr th:only-of-type {\n",
       "        vertical-align: middle;\n",
       "    }\n",
       "\n",
       "    .dataframe tbody tr th {\n",
       "        vertical-align: top;\n",
       "    }\n",
       "\n",
       "    .dataframe thead th {\n",
       "        text-align: right;\n",
       "    }\n",
       "</style>\n",
       "<table border=\"1\" class=\"dataframe\">\n",
       "  <thead>\n",
       "    <tr style=\"text-align: right;\">\n",
       "      <th></th>\n",
       "      <th>PassengerId</th>\n",
       "      <th>Survived</th>\n",
       "      <th>Pclass</th>\n",
       "      <th>Name</th>\n",
       "      <th>Sex</th>\n",
       "      <th>Age</th>\n",
       "      <th>SibSp</th>\n",
       "      <th>Parch</th>\n",
       "      <th>Ticket</th>\n",
       "      <th>Fare</th>\n",
       "      <th>Cabin</th>\n",
       "      <th>Embarked</th>\n",
       "    </tr>\n",
       "  </thead>\n",
       "  <tbody>\n",
       "    <tr>\n",
       "      <th>0</th>\n",
       "      <td>1</td>\n",
       "      <td>0</td>\n",
       "      <td>3</td>\n",
       "      <td>Braund, Mr. Owen Harris</td>\n",
       "      <td>male</td>\n",
       "      <td>22.0</td>\n",
       "      <td>1</td>\n",
       "      <td>0</td>\n",
       "      <td>A/5 21171</td>\n",
       "      <td>7.2500</td>\n",
       "      <td>NaN</td>\n",
       "      <td>S</td>\n",
       "    </tr>\n",
       "    <tr>\n",
       "      <th>1</th>\n",
       "      <td>2</td>\n",
       "      <td>1</td>\n",
       "      <td>1</td>\n",
       "      <td>Cumings, Mrs. John Bradley (Florence Briggs Th...</td>\n",
       "      <td>female</td>\n",
       "      <td>38.0</td>\n",
       "      <td>1</td>\n",
       "      <td>0</td>\n",
       "      <td>PC 17599</td>\n",
       "      <td>71.2833</td>\n",
       "      <td>C85</td>\n",
       "      <td>C</td>\n",
       "    </tr>\n",
       "    <tr>\n",
       "      <th>2</th>\n",
       "      <td>3</td>\n",
       "      <td>1</td>\n",
       "      <td>3</td>\n",
       "      <td>Heikkinen, Miss. Laina</td>\n",
       "      <td>female</td>\n",
       "      <td>26.0</td>\n",
       "      <td>0</td>\n",
       "      <td>0</td>\n",
       "      <td>STON/O2. 3101282</td>\n",
       "      <td>7.9250</td>\n",
       "      <td>NaN</td>\n",
       "      <td>S</td>\n",
       "    </tr>\n",
       "    <tr>\n",
       "      <th>3</th>\n",
       "      <td>4</td>\n",
       "      <td>1</td>\n",
       "      <td>1</td>\n",
       "      <td>Futrelle, Mrs. Jacques Heath (Lily May Peel)</td>\n",
       "      <td>female</td>\n",
       "      <td>35.0</td>\n",
       "      <td>1</td>\n",
       "      <td>0</td>\n",
       "      <td>113803</td>\n",
       "      <td>53.1000</td>\n",
       "      <td>C123</td>\n",
       "      <td>S</td>\n",
       "    </tr>\n",
       "    <tr>\n",
       "      <th>4</th>\n",
       "      <td>5</td>\n",
       "      <td>0</td>\n",
       "      <td>3</td>\n",
       "      <td>Allen, Mr. William Henry</td>\n",
       "      <td>male</td>\n",
       "      <td>35.0</td>\n",
       "      <td>0</td>\n",
       "      <td>0</td>\n",
       "      <td>373450</td>\n",
       "      <td>8.0500</td>\n",
       "      <td>NaN</td>\n",
       "      <td>S</td>\n",
       "    </tr>\n",
       "  </tbody>\n",
       "</table>\n",
       "</div>"
      ],
      "text/plain": [
       "   PassengerId  Survived  Pclass    ...        Fare Cabin  Embarked\n",
       "0            1         0       3    ...      7.2500   NaN         S\n",
       "1            2         1       1    ...     71.2833   C85         C\n",
       "2            3         1       3    ...      7.9250   NaN         S\n",
       "3            4         1       1    ...     53.1000  C123         S\n",
       "4            5         0       3    ...      8.0500   NaN         S\n",
       "\n",
       "[5 rows x 12 columns]"
      ]
     },
     "execution_count": 3,
     "metadata": {},
     "output_type": "execute_result"
    }
   ],
   "source": [
    "train.head(5) # Ticket & Cabin variables are alphanumeric"
   ]
  },
  {
   "cell_type": "code",
   "execution_count": 4,
   "metadata": {
    "_uuid": "5b8c22488ff36fc6ef6df7ca633f8c344108d157"
   },
   "outputs": [
    {
     "name": "stdout",
     "output_type": "stream",
     "text": [
      "<class 'pandas.core.frame.DataFrame'>\n",
      "RangeIndex: 418 entries, 0 to 417\n",
      "Data columns (total 11 columns):\n",
      "PassengerId    418 non-null int64\n",
      "Pclass         418 non-null int64\n",
      "Name           418 non-null object\n",
      "Sex            418 non-null object\n",
      "Age            332 non-null float64\n",
      "SibSp          418 non-null int64\n",
      "Parch          418 non-null int64\n",
      "Ticket         418 non-null object\n",
      "Fare           417 non-null float64\n",
      "Cabin          91 non-null object\n",
      "Embarked       418 non-null object\n",
      "dtypes: float64(2), int64(4), object(5)\n",
      "memory usage: 36.0+ KB\n"
     ]
    }
   ],
   "source": [
    "test.info() # We have 417 observations & 11 columns (no response 'Survived' column)."
   ]
  },
  {
   "cell_type": "markdown",
   "metadata": {
    "_uuid": "d77626295edb8819397862a3da630de9af95af74"
   },
   "source": [
    "**3. Exploratory data analysis **\n",
    "\n",
    "One important aspect of machine learning is to ensure that the variables show almost the same trend across train & test data. If not, it would lead to overfitting because model is representing a relationship which is not applicable in the test dataset. \n",
    "\n",
    "I will give you one example here. As we do variable analysis, try to replicate (wherever applicable) the code for test data and see if there is any major difference in data distribution. \n",
    "\n",
    "**Example** - Let's start with finding the number of missing values. If you compare the output you will see that missing value percentages do not vary much across train & test datasets.\n",
    "\n",
    "Use the groupby/univariate/bivariate analysis method to compare the distribution across Train & Test data"
   ]
  },
  {
   "cell_type": "code",
   "execution_count": 5,
   "metadata": {
    "_uuid": "70a39bc792bf1720f8dec7d6ea717ffe9816a8af"
   },
   "outputs": [
    {
     "data": {
      "text/html": [
       "<div>\n",
       "<style scoped>\n",
       "    .dataframe tbody tr th:only-of-type {\n",
       "        vertical-align: middle;\n",
       "    }\n",
       "\n",
       "    .dataframe tbody tr th {\n",
       "        vertical-align: top;\n",
       "    }\n",
       "\n",
       "    .dataframe thead th {\n",
       "        text-align: right;\n",
       "    }\n",
       "</style>\n",
       "<table border=\"1\" class=\"dataframe\">\n",
       "  <thead>\n",
       "    <tr style=\"text-align: right;\">\n",
       "      <th></th>\n",
       "      <th>Train Missing Ratio</th>\n",
       "    </tr>\n",
       "  </thead>\n",
       "  <tbody>\n",
       "    <tr>\n",
       "      <th>Cabin</th>\n",
       "      <td>77.104377</td>\n",
       "    </tr>\n",
       "    <tr>\n",
       "      <th>Age</th>\n",
       "      <td>19.865320</td>\n",
       "    </tr>\n",
       "    <tr>\n",
       "      <th>Embarked</th>\n",
       "      <td>0.224467</td>\n",
       "    </tr>\n",
       "  </tbody>\n",
       "</table>\n",
       "</div>"
      ],
      "text/plain": [
       "          Train Missing Ratio\n",
       "Cabin               77.104377\n",
       "Age                 19.865320\n",
       "Embarked             0.224467"
      ]
     },
     "execution_count": 5,
     "metadata": {},
     "output_type": "execute_result"
    }
   ],
   "source": [
    "train_na = (train.isnull().sum() / len(train)) * 100\n",
    "train_na = train_na.drop(train_na[train_na == 0].index).sort_values(ascending=False)[:30]\n",
    "miss_train = pd.DataFrame({'Train Missing Ratio' :train_na})\n",
    "miss_train.head()"
   ]
  },
  {
   "cell_type": "code",
   "execution_count": 6,
   "metadata": {
    "_uuid": "bccdb8b25947fd1e13e5729e745461cae059c981"
   },
   "outputs": [
    {
     "data": {
      "text/html": [
       "<div>\n",
       "<style scoped>\n",
       "    .dataframe tbody tr th:only-of-type {\n",
       "        vertical-align: middle;\n",
       "    }\n",
       "\n",
       "    .dataframe tbody tr th {\n",
       "        vertical-align: top;\n",
       "    }\n",
       "\n",
       "    .dataframe thead th {\n",
       "        text-align: right;\n",
       "    }\n",
       "</style>\n",
       "<table border=\"1\" class=\"dataframe\">\n",
       "  <thead>\n",
       "    <tr style=\"text-align: right;\">\n",
       "      <th></th>\n",
       "      <th>Test Missing Ratio</th>\n",
       "    </tr>\n",
       "  </thead>\n",
       "  <tbody>\n",
       "    <tr>\n",
       "      <th>Cabin</th>\n",
       "      <td>78.229665</td>\n",
       "    </tr>\n",
       "    <tr>\n",
       "      <th>Age</th>\n",
       "      <td>20.574163</td>\n",
       "    </tr>\n",
       "    <tr>\n",
       "      <th>Fare</th>\n",
       "      <td>0.239234</td>\n",
       "    </tr>\n",
       "  </tbody>\n",
       "</table>\n",
       "</div>"
      ],
      "text/plain": [
       "       Test Missing Ratio\n",
       "Cabin           78.229665\n",
       "Age             20.574163\n",
       "Fare             0.239234"
      ]
     },
     "execution_count": 6,
     "metadata": {},
     "output_type": "execute_result"
    }
   ],
   "source": [
    "test_na = (test.isnull().sum() / len(test)) * 100\n",
    "test_na = test_na.drop(test_na[test_na == 0].index).sort_values(ascending=False)[:30]\n",
    "miss_test = pd.DataFrame({'Test Missing Ratio' :test_na})\n",
    "miss_test.head()"
   ]
  },
  {
   "cell_type": "code",
   "execution_count": 7,
   "metadata": {
    "_uuid": "5ce62696cffb3d9548742856baf87a704f10c106"
   },
   "outputs": [],
   "source": [
    "# Fill empty and NaNs values with NaN\n",
    "train = train.fillna(np.nan)\n",
    "test = test.fillna(np.nan)"
   ]
  },
  {
   "cell_type": "markdown",
   "metadata": {
    "_uuid": "ed251c6dec1785fdb82de8eaa675f46986557c21"
   },
   "source": [
    "**PassengerId**\n",
    "\n",
    "Not relevant from modeling perspective so we will drop this variable later"
   ]
  },
  {
   "cell_type": "markdown",
   "metadata": {
    "_uuid": "4633ab44bc65651715cf60ef4d4c0f56cb9cd602"
   },
   "source": [
    "**Pclass**\n",
    "\n",
    "Pclass is categorical variable. Let's look at the distribution."
   ]
  },
  {
   "cell_type": "code",
   "execution_count": 8,
   "metadata": {
    "_uuid": "02b5abf56e329bda1c7525fde6febe4faaf87a0e"
   },
   "outputs": [
    {
     "data": {
      "text/html": [
       "<div>\n",
       "<style scoped>\n",
       "    .dataframe tbody tr th:only-of-type {\n",
       "        vertical-align: middle;\n",
       "    }\n",
       "\n",
       "    .dataframe tbody tr th {\n",
       "        vertical-align: top;\n",
       "    }\n",
       "\n",
       "    .dataframe thead th {\n",
       "        text-align: right;\n",
       "    }\n",
       "</style>\n",
       "<table border=\"1\" class=\"dataframe\">\n",
       "  <thead>\n",
       "    <tr style=\"text-align: right;\">\n",
       "      <th></th>\n",
       "      <th>Survived</th>\n",
       "    </tr>\n",
       "    <tr>\n",
       "      <th>Pclass</th>\n",
       "      <th></th>\n",
       "    </tr>\n",
       "  </thead>\n",
       "  <tbody>\n",
       "    <tr>\n",
       "      <th>3</th>\n",
       "      <td>491</td>\n",
       "    </tr>\n",
       "    <tr>\n",
       "      <th>1</th>\n",
       "      <td>216</td>\n",
       "    </tr>\n",
       "    <tr>\n",
       "      <th>2</th>\n",
       "      <td>184</td>\n",
       "    </tr>\n",
       "  </tbody>\n",
       "</table>\n",
       "</div>"
      ],
      "text/plain": [
       "        Survived\n",
       "Pclass          \n",
       "3            491\n",
       "1            216\n",
       "2            184"
      ]
     },
     "execution_count": 8,
     "metadata": {},
     "output_type": "execute_result"
    },
    {
     "data": {
      "image/png": "[encoded data removed]",
      "text/plain": [
       "<Figure size 432x288 with 1 Axes>"
      ]
     },
     "metadata": {},
     "output_type": "display_data"
    }
   ],
   "source": [
    "# Analyze the count of survivors by Pclass\n",
    "\n",
    "ax = sns.countplot(x=\"Pclass\", hue=\"Survived\", data=train)\n",
    "train[['Pclass', 'Survived']].groupby(['Pclass']).count().sort_values(by='Survived', ascending=False)"
   ]
  },
  {
   "cell_type": "code",
   "execution_count": 9,
   "metadata": {
    "_uuid": "572de6d9ddd104546385f79de63003bc93b6b6a0"
   },
   "outputs": [
    {
     "data": {
      "text/html": [
       "<div>\n",
       "<style scoped>\n",
       "    .dataframe tbody tr th:only-of-type {\n",
       "        vertical-align: middle;\n",
       "    }\n",
       "\n",
       "    .dataframe tbody tr th {\n",
       "        vertical-align: top;\n",
       "    }\n",
       "\n",
       "    .dataframe thead th {\n",
       "        text-align: right;\n",
       "    }\n",
       "</style>\n",
       "<table border=\"1\" class=\"dataframe\">\n",
       "  <thead>\n",
       "    <tr style=\"text-align: right;\">\n",
       "      <th></th>\n",
       "      <th>Survived</th>\n",
       "    </tr>\n",
       "    <tr>\n",
       "      <th>Pclass</th>\n",
       "      <th></th>\n",
       "    </tr>\n",
       "  </thead>\n",
       "  <tbody>\n",
       "    <tr>\n",
       "      <th>1</th>\n",
       "      <td>0.629630</td>\n",
       "    </tr>\n",
       "    <tr>\n",
       "      <th>2</th>\n",
       "      <td>0.472826</td>\n",
       "    </tr>\n",
       "    <tr>\n",
       "      <th>3</th>\n",
       "      <td>0.242363</td>\n",
       "    </tr>\n",
       "  </tbody>\n",
       "</table>\n",
       "</div>"
      ],
      "text/plain": [
       "        Survived\n",
       "Pclass          \n",
       "1       0.629630\n",
       "2       0.472826\n",
       "3       0.242363"
      ]
     },
     "execution_count": 9,
     "metadata": {},
     "output_type": "execute_result"
    },
    {
     "data": {
      "image/png": "[encoded data removed]",
      "text/plain": [
       "<Figure size 432x288 with 1 Axes>"
      ]
     },
     "metadata": {},
     "output_type": "display_data"
    }
   ],
   "source": [
    "# Analyze the Survival Probability by Pclass\n",
    "\n",
    "g = sns.barplot(x=\"Pclass\",y=\"Survived\",data=train)\n",
    "g = g.set_ylabel(\"Survival Probability\")\n",
    "train[['Pclass', 'Survived']].groupby(['Pclass']).mean().sort_values(by='Survived', ascending=False)"
   ]
  },
  {
   "cell_type": "markdown",
   "metadata": {
    "_uuid": "99ea5ef744ab6d7396fc73ad60150e99a3479167"
   },
   "source": [
    "Approximately 62% of Pclass = 1 passenger survived followed by 47% of Pclass2."
   ]
  },
  {
   "cell_type": "markdown",
   "metadata": {
    "_uuid": "3cb40cafbbd7bdc74e39302dbfc46577392ac6ab"
   },
   "source": [
    "**Name**\n",
    "\n",
    "Not relevant from analysis & modeling perspective. We will drop this feature later after creating a new variable as Title."
   ]
  },
  {
   "cell_type": "markdown",
   "metadata": {
    "_uuid": "367d6832643bc7aa379699722d795c1723160e4f"
   },
   "source": [
    "**Sex**\n",
    "\n",
    "Based on analysis below, female had better chances of survival. \n",
    "\n",
    "![](https://www.ajc.com/rf/image_large/Pub/p9/AJC/2018/07/12/Images/newsEngin.22048809_071418-titanic_Titanic-Image-7--2-.jpg)"
   ]
  },
  {
   "cell_type": "code",
   "execution_count": 10,
   "metadata": {
    "_uuid": "082001f486cb3397fecce23f3963dbd702004f11"
   },
   "outputs": [
    {
     "data": {
      "text/html": [
       "<div>\n",
       "<style scoped>\n",
       "    .dataframe tbody tr th:only-of-type {\n",
       "        vertical-align: middle;\n",
       "    }\n",
       "\n",
       "    .dataframe tbody tr th {\n",
       "        vertical-align: top;\n",
       "    }\n",
       "\n",
       "    .dataframe thead th {\n",
       "        text-align: right;\n",
       "    }\n",
       "</style>\n",
       "<table border=\"1\" class=\"dataframe\">\n",
       "  <thead>\n",
       "    <tr style=\"text-align: right;\">\n",
       "      <th></th>\n",
       "      <th>Survived</th>\n",
       "    </tr>\n",
       "    <tr>\n",
       "      <th>Sex</th>\n",
       "      <th></th>\n",
       "    </tr>\n",
       "  </thead>\n",
       "  <tbody>\n",
       "    <tr>\n",
       "      <th>male</th>\n",
       "      <td>577</td>\n",
       "    </tr>\n",
       "    <tr>\n",
       "      <th>female</th>\n",
       "      <td>314</td>\n",
       "    </tr>\n",
       "  </tbody>\n",
       "</table>\n",
       "</div>"
      ],
      "text/plain": [
       "        Survived\n",
       "Sex             \n",
       "male         577\n",
       "female       314"
      ]
     },
     "execution_count": 10,
     "metadata": {},
     "output_type": "execute_result"
    },
    {
     "data": {
      "image/png": "[encoded data removed]",
      "text/plain": [
       "<Figure size 432x288 with 1 Axes>"
      ]
     },
     "metadata": {},
     "output_type": "display_data"
    }
   ],
   "source": [
    "# Count the number of passengers by gender\n",
    "ax = sns.countplot(x=\"Sex\", hue=\"Survived\", data=train)\n",
    "\n",
    "# Analyze survival count by gender\n",
    "train[[\"Sex\", \"Survived\"]].groupby(['Sex']).count().sort_values(by='Survived', ascending=False)"
   ]
  },
  {
   "cell_type": "code",
   "execution_count": 11,
   "metadata": {
    "_uuid": "e09e151e6dc8536615875b8a7fc15cbfd4b00367"
   },
   "outputs": [
    {
     "data": {
      "text/html": [
       "<div>\n",
       "<style scoped>\n",
       "    .dataframe tbody tr th:only-of-type {\n",
       "        vertical-align: middle;\n",
       "    }\n",
       "\n",
       "    .dataframe tbody tr th {\n",
       "        vertical-align: top;\n",
       "    }\n",
       "\n",
       "    .dataframe thead th {\n",
       "        text-align: right;\n",
       "    }\n",
       "</style>\n",
       "<table border=\"1\" class=\"dataframe\">\n",
       "  <thead>\n",
       "    <tr style=\"text-align: right;\">\n",
       "      <th></th>\n",
       "      <th>Survived</th>\n",
       "    </tr>\n",
       "    <tr>\n",
       "      <th>Sex</th>\n",
       "      <th></th>\n",
       "    </tr>\n",
       "  </thead>\n",
       "  <tbody>\n",
       "    <tr>\n",
       "      <th>female</th>\n",
       "      <td>0.742038</td>\n",
       "    </tr>\n",
       "    <tr>\n",
       "      <th>male</th>\n",
       "      <td>0.188908</td>\n",
       "    </tr>\n",
       "  </tbody>\n",
       "</table>\n",
       "</div>"
      ],
      "text/plain": [
       "        Survived\n",
       "Sex             \n",
       "female  0.742038\n",
       "male    0.188908"
      ]
     },
     "execution_count": 11,
     "metadata": {},
     "output_type": "execute_result"
    },
    {
     "data": {
      "image/png": "[encoded data removed]",
      "text/plain": [
       "<Figure size 432x288 with 1 Axes>"
      ]
     },
     "metadata": {},
     "output_type": "display_data"
    }
   ],
   "source": [
    "# Analyze the Survival Probability by Gender\n",
    "\n",
    "g = sns.barplot(x=\"Sex\",y=\"Survived\",data=train)\n",
    "g = g.set_ylabel(\"Survival Probability\")\n",
    "train[[\"Sex\", \"Survived\"]].groupby(['Sex']).mean().sort_values(by='Survived', ascending=False)"
   ]
  },
  {
   "cell_type": "markdown",
   "metadata": {
    "_uuid": "d23539445192cf450ad54c79a0e6a7b77f034534"
   },
   "source": [
    "Based on data above, female passengers had better chances of survival than male passengers"
   ]
  },
  {
   "cell_type": "markdown",
   "metadata": {
    "_uuid": "ff453189556bfc633b5b65f5a7ab33c512c31db9"
   },
   "source": [
    "**Age**\n",
    "\n",
    "The insight below connects back to \"Ladies and Kids First\" scene of the movie. It shows that a good number of babies & young kids survived."
   ]
  },
  {
   "cell_type": "code",
   "execution_count": 12,
   "metadata": {
    "_uuid": "5bbd39cf1589cfa77de7ba0a75658da2bf475bcc"
   },
   "outputs": [
    {
     "data": {
      "image/png": "[encoded data removed]",
      "text/plain": [
       "<Figure size 720x576 with 1 Axes>"
      ]
     },
     "metadata": {},
     "output_type": "display_data"
    }
   ],
   "source": [
    "# Let's explore the distribution of age by response variable (Survived)\n",
    "fig = plt.figure(figsize=(10,8),)\n",
    "axis = sns.kdeplot(train.loc[(train['Survived'] == 1),'Age'] , color='g',shade=True, label='Survived')\n",
    "axis = sns.kdeplot(train.loc[(train['Survived'] == 0),'Age'] , color='b',shade=True,label='Did Not Survived')\n",
    "plt.title('Age Distribution - Surviver V.S. Non Survivors', fontsize = 20)\n",
    "plt.xlabel(\"Passenger Age\", fontsize = 12)\n",
    "plt.ylabel('Frequency', fontsize = 12);"
   ]
  },
  {
   "cell_type": "code",
   "execution_count": 13,
   "metadata": {
    "_uuid": "4aa1c91ed0ae561402351195a449d654928aba65"
   },
   "outputs": [
    {
     "data": {
      "text/plain": [
       "<seaborn.axisgrid.FacetGrid at 0x7fb3da587080>"
      ]
     },
     "execution_count": 13,
     "metadata": {},
     "output_type": "execute_result"
    },
    {
     "data": {
      "image/png": "[encoded data removed]",
      "text/plain": [
       "<Figure size 360x360 with 1 Axes>"
      ]
     },
     "metadata": {},
     "output_type": "display_data"
    }
   ],
   "source": [
    "sns.lmplot('Age','Survived',data=train)\n",
    "\n",
    "# We can also say that the older the passenger the lesser the chance of survival"
   ]
  },
  {
   "cell_type": "markdown",
   "metadata": {
    "_uuid": "a9cb59ebd5aa97288a029031828a2423106d8ec9"
   },
   "source": [
    "**SibSP**\n",
    "\n",
    "This variable refers to number of siblings/spouse onboard. SibSP = 1 and SibSP = 2 shows higher chances of survival."
   ]
  },
  {
   "cell_type": "code",
   "execution_count": 14,
   "metadata": {
    "_uuid": "3f19f567e202c1e140077f03badc5e63dfba8245"
   },
   "outputs": [
    {
     "data": {
      "text/html": [
       "<div>\n",
       "<style scoped>\n",
       "    .dataframe tbody tr th:only-of-type {\n",
       "        vertical-align: middle;\n",
       "    }\n",
       "\n",
       "    .dataframe tbody tr th {\n",
       "        vertical-align: top;\n",
       "    }\n",
       "\n",
       "    .dataframe thead th {\n",
       "        text-align: right;\n",
       "    }\n",
       "</style>\n",
       "<table border=\"1\" class=\"dataframe\">\n",
       "  <thead>\n",
       "    <tr style=\"text-align: right;\">\n",
       "      <th></th>\n",
       "      <th>Survived</th>\n",
       "    </tr>\n",
       "    <tr>\n",
       "      <th>SibSp</th>\n",
       "      <th></th>\n",
       "    </tr>\n",
       "  </thead>\n",
       "  <tbody>\n",
       "    <tr>\n",
       "      <th>0</th>\n",
       "      <td>608</td>\n",
       "    </tr>\n",
       "    <tr>\n",
       "      <th>1</th>\n",
       "      <td>209</td>\n",
       "    </tr>\n",
       "    <tr>\n",
       "      <th>2</th>\n",
       "      <td>28</td>\n",
       "    </tr>\n",
       "    <tr>\n",
       "      <th>4</th>\n",
       "      <td>18</td>\n",
       "    </tr>\n",
       "    <tr>\n",
       "      <th>3</th>\n",
       "      <td>16</td>\n",
       "    </tr>\n",
       "    <tr>\n",
       "      <th>8</th>\n",
       "      <td>7</td>\n",
       "    </tr>\n",
       "    <tr>\n",
       "      <th>5</th>\n",
       "      <td>5</td>\n",
       "    </tr>\n",
       "  </tbody>\n",
       "</table>\n",
       "</div>"
      ],
      "text/plain": [
       "       Survived\n",
       "SibSp          \n",
       "0           608\n",
       "1           209\n",
       "2            28\n",
       "4            18\n",
       "3            16\n",
       "8             7\n",
       "5             5"
      ]
     },
     "execution_count": 14,
     "metadata": {},
     "output_type": "execute_result"
    },
    {
     "data": {
      "image/png": "[encoded data removed]",
      "text/plain": [
       "<Figure size 432x288 with 1 Axes>"
      ]
     },
     "metadata": {},
     "output_type": "display_data"
    }
   ],
   "source": [
    "# Analyze the count of survivors by SibSP\n",
    "\n",
    "ax = sns.countplot(x=\"SibSp\", hue=\"Survived\", data=train)\n",
    "train[['SibSp', 'Survived']].groupby(['SibSp']).count().sort_values(by='Survived', ascending=False)"
   ]
  },
  {
   "cell_type": "code",
   "execution_count": 15,
   "metadata": {
    "_uuid": "16bba43d835f146baac86e2bed8ba2ac26ad5547"
   },
   "outputs": [
    {
     "data": {
      "text/html": [
       "<div>\n",
       "<style scoped>\n",
       "    .dataframe tbody tr th:only-of-type {\n",
       "        vertical-align: middle;\n",
       "    }\n",
       "\n",
       "    .dataframe tbody tr th {\n",
       "        vertical-align: top;\n",
       "    }\n",
       "\n",
       "    .dataframe thead th {\n",
       "        text-align: right;\n",
       "    }\n",
       "</style>\n",
       "<table border=\"1\" class=\"dataframe\">\n",
       "  <thead>\n",
       "    <tr style=\"text-align: right;\">\n",
       "      <th></th>\n",
       "      <th>Survived</th>\n",
       "    </tr>\n",
       "    <tr>\n",
       "      <th>SibSp</th>\n",
       "      <th></th>\n",
       "    </tr>\n",
       "  </thead>\n",
       "  <tbody>\n",
       "    <tr>\n",
       "      <th>1</th>\n",
       "      <td>0.535885</td>\n",
       "    </tr>\n",
       "    <tr>\n",
       "      <th>2</th>\n",
       "      <td>0.464286</td>\n",
       "    </tr>\n",
       "    <tr>\n",
       "      <th>0</th>\n",
       "      <td>0.345395</td>\n",
       "    </tr>\n",
       "    <tr>\n",
       "      <th>3</th>\n",
       "      <td>0.250000</td>\n",
       "    </tr>\n",
       "    <tr>\n",
       "      <th>4</th>\n",
       "      <td>0.166667</td>\n",
       "    </tr>\n",
       "    <tr>\n",
       "      <th>5</th>\n",
       "      <td>0.000000</td>\n",
       "    </tr>\n",
       "    <tr>\n",
       "      <th>8</th>\n",
       "      <td>0.000000</td>\n",
       "    </tr>\n",
       "  </tbody>\n",
       "</table>\n",
       "</div>"
      ],
      "text/plain": [
       "       Survived\n",
       "SibSp          \n",
       "1      0.535885\n",
       "2      0.464286\n",
       "0      0.345395\n",
       "3      0.250000\n",
       "4      0.166667\n",
       "5      0.000000\n",
       "8      0.000000"
      ]
     },
     "execution_count": 15,
     "metadata": {},
     "output_type": "execute_result"
    },
    {
     "data": {
      "image/png": "[encoded data removed]",
      "text/plain": [
       "<Figure size 504x504 with 1 Axes>"
      ]
     },
     "metadata": {},
     "output_type": "display_data"
    }
   ],
   "source": [
    "# Analyze probability of survival by SibSP\n",
    "\n",
    "g  = sns.factorplot(x=\"SibSp\",y=\"Survived\",data=train,kind=\"bar\", size = 7 ,palette = \"muted\")\n",
    "g.despine(left=True)\n",
    "g = g.set_ylabels(\"survival probability\")\n",
    "train[[\"SibSp\", \"Survived\"]].groupby(['SibSp']).mean().sort_values(by='Survived', ascending=False)"
   ]
  },
  {
   "cell_type": "markdown",
   "metadata": {
    "_uuid": "1e450a6dd9b0e0bdfafb4ae0052be978c07d0486"
   },
   "source": [
    "**Parch**\n",
    "\n",
    "Parch indicates number of parents / children aboard the Titanic. Note that Parch = 3 and Parch = 1 shows higher survival probabilities. "
   ]
  },
  {
   "cell_type": "code",
   "execution_count": 16,
   "metadata": {
    "_uuid": "67bfdf552febd9fed9c7ad37280cc811bf7ce7b2"
   },
   "outputs": [
    {
     "data": {
      "text/html": [
       "<div>\n",
       "<style scoped>\n",
       "    .dataframe tbody tr th:only-of-type {\n",
       "        vertical-align: middle;\n",
       "    }\n",
       "\n",
       "    .dataframe tbody tr th {\n",
       "        vertical-align: top;\n",
       "    }\n",
       "\n",
       "    .dataframe thead th {\n",
       "        text-align: right;\n",
       "    }\n",
       "</style>\n",
       "<table border=\"1\" class=\"dataframe\">\n",
       "  <thead>\n",
       "    <tr style=\"text-align: right;\">\n",
       "      <th></th>\n",
       "      <th>Survived</th>\n",
       "    </tr>\n",
       "    <tr>\n",
       "      <th>Parch</th>\n",
       "      <th></th>\n",
       "    </tr>\n",
       "  </thead>\n",
       "  <tbody>\n",
       "    <tr>\n",
       "      <th>0</th>\n",
       "      <td>678</td>\n",
       "    </tr>\n",
       "    <tr>\n",
       "      <th>1</th>\n",
       "      <td>118</td>\n",
       "    </tr>\n",
       "    <tr>\n",
       "      <th>2</th>\n",
       "      <td>80</td>\n",
       "    </tr>\n",
       "    <tr>\n",
       "      <th>3</th>\n",
       "      <td>5</td>\n",
       "    </tr>\n",
       "    <tr>\n",
       "      <th>5</th>\n",
       "      <td>5</td>\n",
       "    </tr>\n",
       "    <tr>\n",
       "      <th>4</th>\n",
       "      <td>4</td>\n",
       "    </tr>\n",
       "    <tr>\n",
       "      <th>6</th>\n",
       "      <td>1</td>\n",
       "    </tr>\n",
       "  </tbody>\n",
       "</table>\n",
       "</div>"
      ],
      "text/plain": [
       "       Survived\n",
       "Parch          \n",
       "0           678\n",
       "1           118\n",
       "2            80\n",
       "3             5\n",
       "5             5\n",
       "4             4\n",
       "6             1"
      ]
     },
     "execution_count": 16,
     "metadata": {},
     "output_type": "execute_result"
    },
    {
     "data": {
      "image/png": "[encoded data removed]",
      "text/plain": [
       "<Figure size 432x288 with 1 Axes>"
      ]
     },
     "metadata": {},
     "output_type": "display_data"
    }
   ],
   "source": [
    "# Analyze the count of survivors by Parch\n",
    "\n",
    "ax = sns.countplot(x=\"Parch\", hue=\"Survived\", data=train)\n",
    "train[['Parch', 'Survived']].groupby(['Parch']).count().sort_values(by='Survived', ascending=False)"
   ]
  },
  {
   "cell_type": "code",
   "execution_count": 17,
   "metadata": {
    "_uuid": "ddade8ef9f0373ebab6a2496f400fa65753f6caf"
   },
   "outputs": [
    {
     "data": {
      "text/html": [
       "<div>\n",
       "<style scoped>\n",
       "    .dataframe tbody tr th:only-of-type {\n",
       "        vertical-align: middle;\n",
       "    }\n",
       "\n",
       "    .dataframe tbody tr th {\n",
       "        vertical-align: top;\n",
       "    }\n",
       "\n",
       "    .dataframe thead th {\n",
       "        text-align: right;\n",
       "    }\n",
       "</style>\n",
       "<table border=\"1\" class=\"dataframe\">\n",
       "  <thead>\n",
       "    <tr style=\"text-align: right;\">\n",
       "      <th></th>\n",
       "      <th>Survived</th>\n",
       "    </tr>\n",
       "    <tr>\n",
       "      <th>Parch</th>\n",
       "      <th></th>\n",
       "    </tr>\n",
       "  </thead>\n",
       "  <tbody>\n",
       "    <tr>\n",
       "      <th>3</th>\n",
       "      <td>0.600000</td>\n",
       "    </tr>\n",
       "    <tr>\n",
       "      <th>1</th>\n",
       "      <td>0.550847</td>\n",
       "    </tr>\n",
       "    <tr>\n",
       "      <th>2</th>\n",
       "      <td>0.500000</td>\n",
       "    </tr>\n",
       "    <tr>\n",
       "      <th>0</th>\n",
       "      <td>0.343658</td>\n",
       "    </tr>\n",
       "    <tr>\n",
       "      <th>5</th>\n",
       "      <td>0.200000</td>\n",
       "    </tr>\n",
       "    <tr>\n",
       "      <th>4</th>\n",
       "      <td>0.000000</td>\n",
       "    </tr>\n",
       "    <tr>\n",
       "      <th>6</th>\n",
       "      <td>0.000000</td>\n",
       "    </tr>\n",
       "  </tbody>\n",
       "</table>\n",
       "</div>"
      ],
      "text/plain": [
       "       Survived\n",
       "Parch          \n",
       "3      0.600000\n",
       "1      0.550847\n",
       "2      0.500000\n",
       "0      0.343658\n",
       "5      0.200000\n",
       "4      0.000000\n",
       "6      0.000000"
      ]
     },
     "execution_count": 17,
     "metadata": {},
     "output_type": "execute_result"
    },
    {
     "data": {
      "image/png": "[encoded data removed]",
      "text/plain": [
       "<Figure size 504x504 with 1 Axes>"
      ]
     },
     "metadata": {},
     "output_type": "display_data"
    }
   ],
   "source": [
    "# Analyze the Survival Probability by Parch\n",
    "\n",
    "g  = sns.factorplot(x=\"Parch\",y=\"Survived\",data=train,kind=\"bar\", size = 7 ,palette = \"muted\")\n",
    "g.despine(left=True)\n",
    "g = g.set_ylabels(\"Survival Probability\")\n",
    "train[[\"Parch\", \"Survived\"]].groupby(['Parch']).mean().sort_values(by='Survived', ascending=False)"
   ]
  },
  {
   "cell_type": "markdown",
   "metadata": {
    "_uuid": "a172d6b011b38b7adb7a59cef415279459a5ea63"
   },
   "source": [
    "**Ticket**\n",
    "\n",
    "This variable has alphanumeric value which might not be related to Survival directly but we can use this variable to create some additional features."
   ]
  },
  {
   "cell_type": "code",
   "execution_count": 18,
   "metadata": {
    "_uuid": "9d606873c54e30ba3aace372ef18dd816f0deb6f"
   },
   "outputs": [
    {
     "data": {
      "text/plain": [
       "0           A/5 21171\n",
       "1            PC 17599\n",
       "2    STON/O2. 3101282\n",
       "3              113803\n",
       "4              373450\n",
       "Name: Ticket, dtype: object"
      ]
     },
     "execution_count": 18,
     "metadata": {},
     "output_type": "execute_result"
    }
   ],
   "source": [
    "train['Ticket'].head()"
   ]
  },
  {
   "cell_type": "markdown",
   "metadata": {
    "_uuid": "754f852ff1b4d429e7f440f2c9377d2f29fb6e77"
   },
   "source": [
    "**Fare**\n",
    "\n",
    "Let's check the distribution first."
   ]
  },
  {
   "cell_type": "code",
   "execution_count": 19,
   "metadata": {
    "_uuid": "504240e6309d874a22db3e69f71563d4d0b240a6"
   },
   "outputs": [
    {
     "name": "stdout",
     "output_type": "stream",
     "text": [
      "\n",
      " mu = 32.20 and sigma = 49.67\n",
      "\n"
     ]
    },
    {
     "data": {
      "text/plain": [
       "Text(0.5,1,'Fare distribution')"
      ]
     },
     "execution_count": 19,
     "metadata": {},
     "output_type": "execute_result"
    },
    {
     "data": {
      "image/png": "[encoded data removed]",
      "text/plain": [
       "<Figure size 432x288 with 1 Axes>"
      ]
     },
     "metadata": {},
     "output_type": "display_data"
    }
   ],
   "source": [
    "from scipy import stats\n",
    "from scipy.stats import norm, skew #for some statistics\n",
    "sns.distplot(train['Fare'] , fit=norm);\n",
    "\n",
    "# Get the fitted parameters used by the function\n",
    "(mu, sigma) = norm.fit(train['Fare'])\n",
    "print( '\\n mu = {:.2f} and sigma = {:.2f}\\n'.format(mu, sigma))\n",
    "\n",
    "#Now plot the distribution\n",
    "plt.legend(['Normal dist. ($\\mu=$ {:.2f} and $\\sigma=$ {:.2f} )'.format(mu, sigma)],\n",
    "           loc='best')\n",
    "plt.ylabel('Frequency')\n",
    "plt.title('Fare distribution')"
   ]
  },
  {
   "cell_type": "markdown",
   "metadata": {
    "_uuid": "a5369c51fa10fda70f84aa42a053ffb03b486143"
   },
   "source": [
    "The Fare variable is right skewed. We need to transform this variable using log function and make it more normally distributed. We will do this during feature engineering process."
   ]
  },
  {
   "cell_type": "markdown",
   "metadata": {
    "_uuid": "2c34d20a2a95e5f5449d9d2fcbafb59de8d50687"
   },
   "source": [
    "**Cabin**\n",
    "\n",
    "Alphanumeric variable. \n",
    "\n",
    "687 missing values in train & 327 missing values in test data - which needs to be treated. We can create more features using this Cabin variable. "
   ]
  },
  {
   "cell_type": "code",
   "execution_count": 20,
   "metadata": {
    "_uuid": "68ec1a3cab8c17ba89db9238c72df4d9aa5fbcc1"
   },
   "outputs": [
    {
     "data": {
      "text/plain": [
       "array([nan, 'C85', 'C123', 'E46', 'G6', 'C103', 'D56', 'A6',\n",
       "       'C23 C25 C27', 'B78', 'D33', 'B30', 'C52', 'B28', 'C83', 'F33',\n",
       "       'F G73', 'E31', 'A5', 'D10 D12', 'D26', 'C110', 'B58 B60', 'E101',\n",
       "       'F E69', 'D47', 'B86', 'F2', 'C2', 'E33', 'B19', 'A7', 'C49', 'F4',\n",
       "       'A32', 'B4', 'B80', 'A31', 'D36', 'D15', 'C93', 'C78', 'D35',\n",
       "       'C87', 'B77', 'E67', 'B94', 'C125', 'C99', 'C118', 'D7', 'A19',\n",
       "       'B49', 'D', 'C22 C26', 'C106', 'C65', 'E36', 'C54',\n",
       "       'B57 B59 B63 B66', 'C7', 'E34', 'C32', 'B18', 'C124', 'C91', 'E40',\n",
       "       'T', 'C128', 'D37', 'B35', 'E50', 'C82', 'B96 B98', 'E10', 'E44',\n",
       "       'A34', 'C104', 'C111', 'C92', 'E38', 'D21', 'E12', 'E63', 'A14',\n",
       "       'B37', 'C30', 'D20', 'B79', 'E25', 'D46', 'B73', 'C95', 'B38',\n",
       "       'B39', 'B22', 'C86', 'C70', 'A16', 'C101', 'C68', 'A10', 'E68',\n",
       "       'B41', 'A20', 'D19', 'D50', 'D9', 'A23', 'B50', 'A26', 'D48',\n",
       "       'E58', 'C126', 'B71', 'B51 B53 B55', 'D49', 'B5', 'B20', 'F G63',\n",
       "       'C62 C64', 'E24', 'C90', 'C45', 'E8', 'B101', 'D45', 'C46', 'D30',\n",
       "       'E121', 'D11', 'E77', 'F38', 'B3', 'D6', 'B82 B84', 'D17', 'A36',\n",
       "       'B102', 'B69', 'E49', 'C47', 'D28', 'E17', 'A24', 'C50', 'B42',\n",
       "       'C148'], dtype=object)"
      ]
     },
     "execution_count": 20,
     "metadata": {},
     "output_type": "execute_result"
    }
   ],
   "source": [
    "# Let's check the unique values\n",
    "train['Cabin'].unique()"
   ]
  },
  {
   "cell_type": "markdown",
   "metadata": {
    "_uuid": "4ab411fe4009615c143eb2c7b8e1533b4ebdd7a5"
   },
   "source": [
    "**Embarked**\n",
    "\n",
    "C = Cherbourg, Q = Queenstown, S = Southampton\n",
    "\n",
    "Let's explore the variable with Survival rate. Embarked represents port of embarkation. As the analysis output below suggests Emabrked C shows high probabilities of survival."
   ]
  },
  {
   "cell_type": "code",
   "execution_count": 21,
   "metadata": {
    "_uuid": "d3d6a8f503269671db2b3cfaafdc432322f2cf42"
   },
   "outputs": [
    {
     "data": {
      "text/html": [
       "<div>\n",
       "<style scoped>\n",
       "    .dataframe tbody tr th:only-of-type {\n",
       "        vertical-align: middle;\n",
       "    }\n",
       "\n",
       "    .dataframe tbody tr th {\n",
       "        vertical-align: top;\n",
       "    }\n",
       "\n",
       "    .dataframe thead th {\n",
       "        text-align: right;\n",
       "    }\n",
       "</style>\n",
       "<table border=\"1\" class=\"dataframe\">\n",
       "  <thead>\n",
       "    <tr style=\"text-align: right;\">\n",
       "      <th></th>\n",
       "      <th>Survived</th>\n",
       "    </tr>\n",
       "    <tr>\n",
       "      <th>Embarked</th>\n",
       "      <th></th>\n",
       "    </tr>\n",
       "  </thead>\n",
       "  <tbody>\n",
       "    <tr>\n",
       "      <th>S</th>\n",
       "      <td>644</td>\n",
       "    </tr>\n",
       "    <tr>\n",
       "      <th>C</th>\n",
       "      <td>168</td>\n",
       "    </tr>\n",
       "    <tr>\n",
       "      <th>Q</th>\n",
       "      <td>77</td>\n",
       "    </tr>\n",
       "  </tbody>\n",
       "</table>\n",
       "</div>"
      ],
      "text/plain": [
       "          Survived\n",
       "Embarked          \n",
       "S              644\n",
       "C              168\n",
       "Q               77"
      ]
     },
     "execution_count": 21,
     "metadata": {},
     "output_type": "execute_result"
    },
    {
     "data": {
      "image/png": "[encoded data removed]",
      "text/plain": [
       "<Figure size 432x288 with 1 Axes>"
      ]
     },
     "metadata": {},
     "output_type": "display_data"
    }
   ],
   "source": [
    "# Analyze the count of survivors by Embarked variable\n",
    "\n",
    "ax = sns.countplot(x=\"Embarked\", hue=\"Survived\", data=train)\n",
    "train[['Embarked', 'Survived']].groupby(['Embarked']).count().sort_values(by='Survived', ascending=False)"
   ]
  },
  {
   "cell_type": "code",
   "execution_count": 22,
   "metadata": {
    "_uuid": "0bdf9bb790dae2a916babc95160564774929cde0"
   },
   "outputs": [
    {
     "data": {
      "text/html": [
       "<div>\n",
       "<style scoped>\n",
       "    .dataframe tbody tr th:only-of-type {\n",
       "        vertical-align: middle;\n",
       "    }\n",
       "\n",
       "    .dataframe tbody tr th {\n",
       "        vertical-align: top;\n",
       "    }\n",
       "\n",
       "    .dataframe thead th {\n",
       "        text-align: right;\n",
       "    }\n",
       "</style>\n",
       "<table border=\"1\" class=\"dataframe\">\n",
       "  <thead>\n",
       "    <tr style=\"text-align: right;\">\n",
       "      <th></th>\n",
       "      <th>Survived</th>\n",
       "    </tr>\n",
       "    <tr>\n",
       "      <th>Embarked</th>\n",
       "      <th></th>\n",
       "    </tr>\n",
       "  </thead>\n",
       "  <tbody>\n",
       "    <tr>\n",
       "      <th>C</th>\n",
       "      <td>0.553571</td>\n",
       "    </tr>\n",
       "    <tr>\n",
       "      <th>Q</th>\n",
       "      <td>0.389610</td>\n",
       "    </tr>\n",
       "    <tr>\n",
       "      <th>S</th>\n",
       "      <td>0.336957</td>\n",
       "    </tr>\n",
       "  </tbody>\n",
       "</table>\n",
       "</div>"
      ],
      "text/plain": [
       "          Survived\n",
       "Embarked          \n",
       "C         0.553571\n",
       "Q         0.389610\n",
       "S         0.336957"
      ]
     },
     "execution_count": 22,
     "metadata": {},
     "output_type": "execute_result"
    },
    {
     "data": {
      "image/png": "[encoded data removed]",
      "text/plain": [
       "<Figure size 504x504 with 1 Axes>"
      ]
     },
     "metadata": {},
     "output_type": "display_data"
    }
   ],
   "source": [
    "# Analyze the Survival Probability by Embarked\n",
    "\n",
    "g  = sns.factorplot(x=\"Embarked\",y=\"Survived\",data=train,kind=\"bar\", size = 7 ,palette = \"muted\")\n",
    "g.despine(left=True)\n",
    "g = g.set_ylabels(\"survival probability\")\n",
    "train[[\"Embarked\", \"Survived\"]].groupby(['Embarked']).mean().sort_values(by='Survived', ascending=False)"
   ]
  },
  {
   "cell_type": "markdown",
   "metadata": {
    "_uuid": "5936f65b9bf5f666d027fc1c276eb4bb19d35786"
   },
   "source": [
    "**Additional analysis**\n",
    "\n",
    "Let's create few additional charts to see how different variables are related."
   ]
  },
  {
   "cell_type": "code",
   "execution_count": 23,
   "metadata": {
    "_uuid": "c79b09b8c761bcbea9944f0ea66be101101f196c"
   },
   "outputs": [
    {
     "data": {
      "text/plain": [
       "<seaborn.axisgrid.FacetGrid at 0x7fb3da2cf080>"
      ]
     },
     "execution_count": 23,
     "metadata": {},
     "output_type": "execute_result"
    },
    {
     "data": {
      "image/png": "[encoded data removed]",
      "text/plain": [
       "<Figure size 406.6x360 with 1 Axes>"
      ]
     },
     "metadata": {},
     "output_type": "display_data"
    }
   ],
   "source": [
    "# Age, Pclass & Survival\n",
    "sns.lmplot('Age','Survived',data=train,hue='Pclass')"
   ]
  },
  {
   "cell_type": "code",
   "execution_count": 24,
   "metadata": {
    "_uuid": "d341cfd9f0b7284037606bb282174cd9c5656602"
   },
   "outputs": [
    {
     "data": {
      "image/png": "[encoded data removed]",
      "text/plain": [
       "<Figure size 509.975x432 with 3 Axes>"
      ]
     },
     "metadata": {},
     "output_type": "display_data"
    }
   ],
   "source": [
    "# Age, Embarked, Sex, Pclass\n",
    "g = sns.catplot(x=\"Age\", y=\"Embarked\",  hue=\"Sex\", row=\"Pclass\",   data=train[train.Embarked.notnull()], \n",
    "orient=\"h\", height=2, aspect=3, palette=\"Set3\",  kind=\"violin\", dodge=True, cut=0, bw=.2)"
   ]
  },
  {
   "cell_type": "code",
   "execution_count": 25,
   "metadata": {
    "_uuid": "f1fefa70759adaefed939d3671870cbc1bfeeb76"
   },
   "outputs": [
    {
     "data": {
      "image/png": "[encoded data removed]",
      "text/plain": [
       "<Figure size 648x360 with 3 Axes>"
      ]
     },
     "metadata": {},
     "output_type": "display_data"
    }
   ],
   "source": [
    "# Relation among Pclass, Gender & Survival Rate\n",
    "g = sns.catplot(x=\"Sex\", y=\"Survived\", col=\"Pclass\", data=train, saturation=.5, \n",
    "                kind=\"bar\", ci=None, aspect=.6)"
   ]
  },
  {
   "cell_type": "code",
   "execution_count": 26,
   "metadata": {
    "_uuid": "904eff86e0696565d00e07036ddbef2f36f94102"
   },
   "outputs": [
    {
     "data": {
      "image/png": "[encoded data removed]",
      "text/plain": [
       "<Figure size 1512x360 with 7 Axes>"
      ]
     },
     "metadata": {},
     "output_type": "display_data"
    }
   ],
   "source": [
    "# Relation among SibSP, Gender & Survival Rate\n",
    "g = sns.catplot(x=\"Sex\", y=\"Survived\", col=\"SibSp\", data=train, saturation=.5, \n",
    "                kind=\"bar\", ci=None, aspect=.6)"
   ]
  },
  {
   "cell_type": "code",
   "execution_count": 27,
   "metadata": {
    "_uuid": "6fe8a9ab5608d378b02fe8c80e40a5e643d518e5"
   },
   "outputs": [
    {
     "data": {
      "image/png": "[encoded data removed]",
      "text/plain": [
       "<Figure size 1512x360 with 7 Axes>"
      ]
     },
     "metadata": {},
     "output_type": "display_data"
    }
   ],
   "source": [
    "# Relation among Parch, Gender & Survival Rate\n",
    "g = sns.catplot(x=\"Sex\", y=\"Survived\", col=\"Parch\", data=train, saturation=.5, \n",
    "                kind=\"bar\", ci=None, aspect=.6)"
   ]
  },
  {
   "cell_type": "markdown",
   "metadata": {
    "_uuid": "8082afbbb17b1acc38d8e5ce0df2aeac64f22d03"
   },
   "source": [
    "**Data preparation including feature engineering**\n",
    "\n",
    "What we need to do to process following variables  - \n",
    "\n",
    "**PassengerID** - No action required\n",
    "\n",
    "**PClass** - Have only 3 numerical values. We will use it as it is.\n",
    "\n",
    "**Name** - Can be used to create new variable Title by extracting the salutation from name.\n",
    "\n",
    "**Sex** - Create dummy variables\n",
    "\n",
    "**Age** - Missing value treatment, followed by creating dummy variables\n",
    "\n",
    "**SibSP** - Create dummy variables\n",
    "\n",
    "**Parch** - Create dummy variables\n",
    "\n",
    "**Ticket** - Create dummy variables post feature engineering\n",
    "\n",
    "**Fare** - Missing value treatment followed by log normalization\n",
    "\n",
    "**Cabin** - Create dummy variables post feature engineering\n",
    "\n",
    "**Embarked** - Create dummy variables"
   ]
  },
  {
   "cell_type": "code",
   "execution_count": 28,
   "metadata": {
    "_uuid": "4fbee6875ca68412a5b65c8d40075b40b7f5809d"
   },
   "outputs": [
    {
     "name": "stdout",
     "output_type": "stream",
     "text": [
      "(891, 13) (418, 12) (1309, 13)\n"
     ]
    }
   ],
   "source": [
    "# Let's combining train & test for quick feature engineering. \n",
    "# Variable source is a kind of tag which indicates data source in combined data\n",
    "train['source']='train'\n",
    "test['source']='test'\n",
    "combdata = pd.concat([train, test],ignore_index=True)\n",
    "print (train.shape, test.shape, combdata.shape)"
   ]
  },
  {
   "cell_type": "code",
   "execution_count": 29,
   "metadata": {
    "_uuid": "dc804117901ca859d8f082c0bfcc3a44dda9e736"
   },
   "outputs": [
    {
     "data": {
      "text/html": [
       "<div>\n",
       "<style scoped>\n",
       "    .dataframe tbody tr th:only-of-type {\n",
       "        vertical-align: middle;\n",
       "    }\n",
       "\n",
       "    .dataframe tbody tr th {\n",
       "        vertical-align: top;\n",
       "    }\n",
       "\n",
       "    .dataframe thead th {\n",
       "        text-align: right;\n",
       "    }\n",
       "</style>\n",
       "<table border=\"1\" class=\"dataframe\">\n",
       "  <thead>\n",
       "    <tr style=\"text-align: right;\">\n",
       "      <th></th>\n",
       "      <th>Age</th>\n",
       "      <th>Cabin</th>\n",
       "      <th>Embarked</th>\n",
       "      <th>Fare</th>\n",
       "      <th>Name</th>\n",
       "      <th>Parch</th>\n",
       "      <th>PassengerId</th>\n",
       "      <th>Pclass</th>\n",
       "      <th>Sex</th>\n",
       "      <th>SibSp</th>\n",
       "      <th>Survived</th>\n",
       "      <th>Ticket</th>\n",
       "      <th>source</th>\n",
       "    </tr>\n",
       "  </thead>\n",
       "  <tbody>\n",
       "    <tr>\n",
       "      <th>0</th>\n",
       "      <td>22.0</td>\n",
       "      <td>NaN</td>\n",
       "      <td>S</td>\n",
       "      <td>7.2500</td>\n",
       "      <td>Braund, Mr. Owen Harris</td>\n",
       "      <td>0</td>\n",
       "      <td>1</td>\n",
       "      <td>3</td>\n",
       "      <td>male</td>\n",
       "      <td>1</td>\n",
       "      <td>0.0</td>\n",
       "      <td>A/5 21171</td>\n",
       "      <td>train</td>\n",
       "    </tr>\n",
       "    <tr>\n",
       "      <th>1</th>\n",
       "      <td>38.0</td>\n",
       "      <td>C85</td>\n",
       "      <td>C</td>\n",
       "      <td>71.2833</td>\n",
       "      <td>Cumings, Mrs. John Bradley (Florence Briggs Th...</td>\n",
       "      <td>0</td>\n",
       "      <td>2</td>\n",
       "      <td>1</td>\n",
       "      <td>female</td>\n",
       "      <td>1</td>\n",
       "      <td>1.0</td>\n",
       "      <td>PC 17599</td>\n",
       "      <td>train</td>\n",
       "    </tr>\n",
       "    <tr>\n",
       "      <th>2</th>\n",
       "      <td>26.0</td>\n",
       "      <td>NaN</td>\n",
       "      <td>S</td>\n",
       "      <td>7.9250</td>\n",
       "      <td>Heikkinen, Miss. Laina</td>\n",
       "      <td>0</td>\n",
       "      <td>3</td>\n",
       "      <td>3</td>\n",
       "      <td>female</td>\n",
       "      <td>0</td>\n",
       "      <td>1.0</td>\n",
       "      <td>STON/O2. 3101282</td>\n",
       "      <td>train</td>\n",
       "    </tr>\n",
       "    <tr>\n",
       "      <th>3</th>\n",
       "      <td>35.0</td>\n",
       "      <td>C123</td>\n",
       "      <td>S</td>\n",
       "      <td>53.1000</td>\n",
       "      <td>Futrelle, Mrs. Jacques Heath (Lily May Peel)</td>\n",
       "      <td>0</td>\n",
       "      <td>4</td>\n",
       "      <td>1</td>\n",
       "      <td>female</td>\n",
       "      <td>1</td>\n",
       "      <td>1.0</td>\n",
       "      <td>113803</td>\n",
       "      <td>train</td>\n",
       "    </tr>\n",
       "    <tr>\n",
       "      <th>4</th>\n",
       "      <td>35.0</td>\n",
       "      <td>NaN</td>\n",
       "      <td>S</td>\n",
       "      <td>8.0500</td>\n",
       "      <td>Allen, Mr. William Henry</td>\n",
       "      <td>0</td>\n",
       "      <td>5</td>\n",
       "      <td>3</td>\n",
       "      <td>male</td>\n",
       "      <td>0</td>\n",
       "      <td>0.0</td>\n",
       "      <td>373450</td>\n",
       "      <td>train</td>\n",
       "    </tr>\n",
       "  </tbody>\n",
       "</table>\n",
       "</div>"
      ],
      "text/plain": [
       "    Age Cabin Embarked     Fare   ...   SibSp  Survived            Ticket  source\n",
       "0  22.0   NaN        S   7.2500   ...       1       0.0         A/5 21171   train\n",
       "1  38.0   C85        C  71.2833   ...       1       1.0          PC 17599   train\n",
       "2  26.0   NaN        S   7.9250   ...       0       1.0  STON/O2. 3101282   train\n",
       "3  35.0  C123        S  53.1000   ...       1       1.0            113803   train\n",
       "4  35.0   NaN        S   8.0500   ...       0       0.0            373450   train\n",
       "\n",
       "[5 rows x 13 columns]"
      ]
     },
     "execution_count": 29,
     "metadata": {},
     "output_type": "execute_result"
    }
   ],
   "source": [
    "# Let's check the data\n",
    "combdata.head()"
   ]
  },
  {
   "cell_type": "markdown",
   "metadata": {
    "_uuid": "99c9a0f8bc336b6bb67cdf7e6ea1b5201b90a4bb"
   },
   "source": [
    "**PassengerID**"
   ]
  },
  {
   "cell_type": "code",
   "execution_count": 30,
   "metadata": {
    "_uuid": "bc3f3bcef1f44c323ad02968d14fe3bff66d9ce5"
   },
   "outputs": [],
   "source": [
    "# PassengerID - Drop PassengerID\n",
    "combdata.drop(labels = [\"PassengerId\"], axis = 1, inplace = True)"
   ]
  },
  {
   "cell_type": "markdown",
   "metadata": {
    "_uuid": "e939f53ab7c9ae0b9ae1dd9c2aae26a18ec8199d"
   },
   "source": [
    "**Pclass**"
   ]
  },
  {
   "cell_type": "code",
   "execution_count": 31,
   "metadata": {
    "_uuid": "5f35386ac0383cdfd9b03f31bb621b183179f294"
   },
   "outputs": [
    {
     "data": {
      "text/plain": [
       "array([3, 1, 2])"
      ]
     },
     "execution_count": 31,
     "metadata": {},
     "output_type": "execute_result"
    }
   ],
   "source": [
    "# Pclass - Use as it is\n",
    "combdata['Pclass'].unique()"
   ]
  },
  {
   "cell_type": "markdown",
   "metadata": {
    "_kg_hide-input": false,
    "_uuid": "15d54da51de1dabb63f8207536ce2977c21e70e8"
   },
   "source": [
    "**Name**"
   ]
  },
  {
   "cell_type": "code",
   "execution_count": 32,
   "metadata": {
    "_uuid": "424d3241ff267ada41798344368e6b551cda1425"
   },
   "outputs": [
    {
     "data": {
      "text/plain": [
       "array(['Mr', 'Mrs', 'Miss', 'Master', 'Don', 'Rev', 'Dr', 'Mme', 'Ms',\n",
       "       'Major', 'Lady', 'Sir', 'Mlle', 'Col', 'Capt', 'the Countess',\n",
       "       'Jonkheer', 'Dona'], dtype=object)"
      ]
     },
     "execution_count": 32,
     "metadata": {},
     "output_type": "execute_result"
    }
   ],
   "source": [
    "# Name - Extract Salutation from Name variable\n",
    "\n",
    "salutation = [i.split(\",\")[1].split(\".\")[0].strip() for i in combdata[\"Name\"]]\n",
    "combdata[\"Title\"] = pd.Series(salutation)\n",
    "combdata[\"Title\"].unique()"
   ]
  },
  {
   "cell_type": "markdown",
   "metadata": {
    "_uuid": "d8f26cde80a8dff07f991fe90d537812e2ac140a"
   },
   "source": [
    "**Title**"
   ]
  },
  {
   "cell_type": "code",
   "execution_count": 33,
   "metadata": {
    "_uuid": "2f40a430895916ae700cdded93ef80836f912b01"
   },
   "outputs": [
    {
     "data": {
      "text/plain": [
       "array([2, 1, 0, 3])"
      ]
     },
     "execution_count": 33,
     "metadata": {},
     "output_type": "execute_result"
    }
   ],
   "source": [
    "# Convert other salutations to fixed Title \n",
    "combdata[\"Title\"] = combdata[\"Title\"].replace(['Lady', 'the Countess','Countess','Capt', 'Col','Don', 'Dr', 'Major', 'Rev', 'Sir', 'Jonkheer', 'Dona'], 'Rare')\n",
    "combdata[\"Title\"] = combdata[\"Title\"].map({\"Master\":0, \"Miss\":1, \"Ms\" : 1 , \"Mme\":1, \"Mlle\":1, \"Mrs\":1, \"Mr\":2, \"Rare\":3})\n",
    "combdata[\"Title\"] = combdata[\"Title\"].astype(int)\n",
    "combdata[\"Title\"].unique()"
   ]
  },
  {
   "cell_type": "code",
   "execution_count": 34,
   "metadata": {
    "_uuid": "0308c612a7f929a0c21689bec9026de0dad57c27"
   },
   "outputs": [
    {
     "data": {
      "text/html": [
       "<div>\n",
       "<style scoped>\n",
       "    .dataframe tbody tr th:only-of-type {\n",
       "        vertical-align: middle;\n",
       "    }\n",
       "\n",
       "    .dataframe tbody tr th {\n",
       "        vertical-align: top;\n",
       "    }\n",
       "\n",
       "    .dataframe thead th {\n",
       "        text-align: right;\n",
       "    }\n",
       "</style>\n",
       "<table border=\"1\" class=\"dataframe\">\n",
       "  <thead>\n",
       "    <tr style=\"text-align: right;\">\n",
       "      <th></th>\n",
       "      <th>Age</th>\n",
       "      <th>Cabin</th>\n",
       "      <th>Embarked</th>\n",
       "      <th>Fare</th>\n",
       "      <th>Parch</th>\n",
       "      <th>Pclass</th>\n",
       "      <th>Sex</th>\n",
       "      <th>SibSp</th>\n",
       "      <th>Survived</th>\n",
       "      <th>Ticket</th>\n",
       "      <th>source</th>\n",
       "      <th>Title</th>\n",
       "    </tr>\n",
       "  </thead>\n",
       "  <tbody>\n",
       "    <tr>\n",
       "      <th>0</th>\n",
       "      <td>22.0</td>\n",
       "      <td>NaN</td>\n",
       "      <td>S</td>\n",
       "      <td>7.2500</td>\n",
       "      <td>0</td>\n",
       "      <td>3</td>\n",
       "      <td>male</td>\n",
       "      <td>1</td>\n",
       "      <td>0.0</td>\n",
       "      <td>A/5 21171</td>\n",
       "      <td>train</td>\n",
       "      <td>2</td>\n",
       "    </tr>\n",
       "    <tr>\n",
       "      <th>1</th>\n",
       "      <td>38.0</td>\n",
       "      <td>C85</td>\n",
       "      <td>C</td>\n",
       "      <td>71.2833</td>\n",
       "      <td>0</td>\n",
       "      <td>1</td>\n",
       "      <td>female</td>\n",
       "      <td>1</td>\n",
       "      <td>1.0</td>\n",
       "      <td>PC 17599</td>\n",
       "      <td>train</td>\n",
       "      <td>1</td>\n",
       "    </tr>\n",
       "    <tr>\n",
       "      <th>2</th>\n",
       "      <td>26.0</td>\n",
       "      <td>NaN</td>\n",
       "      <td>S</td>\n",
       "      <td>7.9250</td>\n",
       "      <td>0</td>\n",
       "      <td>3</td>\n",
       "      <td>female</td>\n",
       "      <td>0</td>\n",
       "      <td>1.0</td>\n",
       "      <td>STON/O2. 3101282</td>\n",
       "      <td>train</td>\n",
       "      <td>1</td>\n",
       "    </tr>\n",
       "    <tr>\n",
       "      <th>3</th>\n",
       "      <td>35.0</td>\n",
       "      <td>C123</td>\n",
       "      <td>S</td>\n",
       "      <td>53.1000</td>\n",
       "      <td>0</td>\n",
       "      <td>1</td>\n",
       "      <td>female</td>\n",
       "      <td>1</td>\n",
       "      <td>1.0</td>\n",
       "      <td>113803</td>\n",
       "      <td>train</td>\n",
       "      <td>1</td>\n",
       "    </tr>\n",
       "    <tr>\n",
       "      <th>4</th>\n",
       "      <td>35.0</td>\n",
       "      <td>NaN</td>\n",
       "      <td>S</td>\n",
       "      <td>8.0500</td>\n",
       "      <td>0</td>\n",
       "      <td>3</td>\n",
       "      <td>male</td>\n",
       "      <td>0</td>\n",
       "      <td>0.0</td>\n",
       "      <td>373450</td>\n",
       "      <td>train</td>\n",
       "      <td>2</td>\n",
       "    </tr>\n",
       "  </tbody>\n",
       "</table>\n",
       "</div>"
      ],
      "text/plain": [
       "    Age Cabin Embarked     Fare  ...    Survived            Ticket source  Title\n",
       "0  22.0   NaN        S   7.2500  ...         0.0         A/5 21171  train      2\n",
       "1  38.0   C85        C  71.2833  ...         1.0          PC 17599  train      1\n",
       "2  26.0   NaN        S   7.9250  ...         1.0  STON/O2. 3101282  train      1\n",
       "3  35.0  C123        S  53.1000  ...         1.0            113803  train      1\n",
       "4  35.0   NaN        S   8.0500  ...         0.0            373450  train      2\n",
       "\n",
       "[5 rows x 12 columns]"
      ]
     },
     "execution_count": 34,
     "metadata": {},
     "output_type": "execute_result"
    }
   ],
   "source": [
    "# Drop Name variable\n",
    "combdata.drop(labels = [\"Name\"], axis = 1, inplace = True)\n",
    "combdata.head()"
   ]
  },
  {
   "cell_type": "markdown",
   "metadata": {
    "_uuid": "bba619ad322f7995872a15d4bf27abbc85be9c5a"
   },
   "source": [
    "**Age**"
   ]
  },
  {
   "cell_type": "code",
   "execution_count": 35,
   "metadata": {
    "_uuid": "876964cb3da84b076dd0a0862bb82ffa4880b130"
   },
   "outputs": [],
   "source": [
    "# Age\n",
    "\n",
    "## Fill Age with the median age of similar rows according to Sex, Pclass, Parch and SibSp\n",
    "# Index of NaN age rows\n",
    "missing_index = list(combdata[\"Age\"][combdata[\"Age\"].isnull()].index)\n",
    "\n",
    "for i in missing_index :\n",
    "    median_age = combdata[\"Age\"].median()\n",
    "    filled_age = combdata[\"Age\"][((combdata['Sex'] == combdata.iloc[i][\"Sex\"]) & \n",
    "                                (combdata['SibSp'] == combdata.iloc[i][\"SibSp\"]) & \n",
    "                                (combdata['Parch'] == combdata.iloc[i][\"Parch\"]) & \n",
    "                                (combdata['Pclass'] == combdata.iloc[i][\"Pclass\"]))].median()\n",
    "    if not np.isnan(filled_age) :\n",
    "        combdata['Age'].iloc[i] = filled_age\n",
    "    else :\n",
    "        combdata['Age'].iloc[i] = median_age"
   ]
  },
  {
   "cell_type": "markdown",
   "metadata": {
    "_uuid": "f4dd844dbbd8f3df3549ead5e2ebf4106780cb2a"
   },
   "source": [
    "**Sex**"
   ]
  },
  {
   "cell_type": "code",
   "execution_count": 36,
   "metadata": {
    "_uuid": "bc64d67aace4160066be183611da446b29b19687"
   },
   "outputs": [],
   "source": [
    "# Sex - Create dummy variables\n",
    "#combdata[\"Sex\"] = combdata[\"Sex\"].map({\"male\": 0, \"female\":1}) or\n",
    "combdata = pd.get_dummies(combdata, columns = [\"Sex\"])"
   ]
  },
  {
   "cell_type": "markdown",
   "metadata": {
    "_uuid": "fffe5254d879bdc9177725069f30064d2bcb5586"
   },
   "source": [
    "**Creating Family Size variable using SibSp & Parch**"
   ]
  },
  {
   "cell_type": "code",
   "execution_count": 37,
   "metadata": {
    "_uuid": "86c8cb6a1c7f0d7251f0c644073c4c4a61079f45"
   },
   "outputs": [],
   "source": [
    "# Create a variable representing family size from SibSp and Parch\n",
    "combdata[\"Fsize\"] = combdata[\"SibSp\"] + combdata[\"Parch\"] + 1\n",
    "\n",
    "# Create new feature of family size\n",
    "combdata['Single'] = combdata['Fsize'].map(lambda s: 1 if s == 1 else 0)\n",
    "combdata['SmallF'] = combdata['Fsize'].map(lambda s: 1 if  s == 2  else 0)\n",
    "combdata['MedF'] = combdata['Fsize'].map(lambda s: 1 if 3 <= s <= 4 else 0)\n",
    "combdata['LargeF'] = combdata['Fsize'].map(lambda s: 1 if s >= 5 else 0)"
   ]
  },
  {
   "cell_type": "code",
   "execution_count": 38,
   "metadata": {
    "_uuid": "d476c245c77e08074814d7f5ab6fc38ea95c8696"
   },
   "outputs": [
    {
     "data": {
      "text/html": [
       "<div>\n",
       "<style scoped>\n",
       "    .dataframe tbody tr th:only-of-type {\n",
       "        vertical-align: middle;\n",
       "    }\n",
       "\n",
       "    .dataframe tbody tr th {\n",
       "        vertical-align: top;\n",
       "    }\n",
       "\n",
       "    .dataframe thead th {\n",
       "        text-align: right;\n",
       "    }\n",
       "</style>\n",
       "<table border=\"1\" class=\"dataframe\">\n",
       "  <thead>\n",
       "    <tr style=\"text-align: right;\">\n",
       "      <th></th>\n",
       "      <th>Survived</th>\n",
       "    </tr>\n",
       "    <tr>\n",
       "      <th>Fsize</th>\n",
       "      <th></th>\n",
       "    </tr>\n",
       "  </thead>\n",
       "  <tbody>\n",
       "    <tr>\n",
       "      <th>4</th>\n",
       "      <td>0.724138</td>\n",
       "    </tr>\n",
       "    <tr>\n",
       "      <th>3</th>\n",
       "      <td>0.578431</td>\n",
       "    </tr>\n",
       "    <tr>\n",
       "      <th>2</th>\n",
       "      <td>0.552795</td>\n",
       "    </tr>\n",
       "    <tr>\n",
       "      <th>7</th>\n",
       "      <td>0.333333</td>\n",
       "    </tr>\n",
       "    <tr>\n",
       "      <th>1</th>\n",
       "      <td>0.303538</td>\n",
       "    </tr>\n",
       "    <tr>\n",
       "      <th>5</th>\n",
       "      <td>0.200000</td>\n",
       "    </tr>\n",
       "    <tr>\n",
       "      <th>6</th>\n",
       "      <td>0.136364</td>\n",
       "    </tr>\n",
       "    <tr>\n",
       "      <th>8</th>\n",
       "      <td>0.000000</td>\n",
       "    </tr>\n",
       "    <tr>\n",
       "      <th>11</th>\n",
       "      <td>0.000000</td>\n",
       "    </tr>\n",
       "  </tbody>\n",
       "</table>\n",
       "</div>"
      ],
      "text/plain": [
       "       Survived\n",
       "Fsize          \n",
       "4      0.724138\n",
       "3      0.578431\n",
       "2      0.552795\n",
       "7      0.333333\n",
       "1      0.303538\n",
       "5      0.200000\n",
       "6      0.136364\n",
       "8      0.000000\n",
       "11     0.000000"
      ]
     },
     "execution_count": 38,
     "metadata": {},
     "output_type": "execute_result"
    },
    {
     "data": {
      "image/png": "[encoded data removed]",
      "text/plain": [
       "<Figure size 504x504 with 1 Axes>"
      ]
     },
     "metadata": {},
     "output_type": "display_data"
    }
   ],
   "source": [
    "# Analyze the Survival Probability by Fsize\n",
    "\n",
    "g  = sns.factorplot(x=\"Fsize\",y=\"Survived\",data=combdata,kind=\"bar\", size = 7 ,palette = \"muted\")\n",
    "g.despine(left=True)\n",
    "g = g.set_ylabels(\"Survival Probability\")\n",
    "combdata[[\"Fsize\", \"Survived\"]].groupby(['Fsize']).mean().sort_values(by='Survived', ascending=False)"
   ]
  },
  {
   "cell_type": "markdown",
   "metadata": {
    "_uuid": "e86f944450ee1a0c1b362145390fb258c2443d97"
   },
   "source": [
    "**SibSp**"
   ]
  },
  {
   "cell_type": "code",
   "execution_count": 39,
   "metadata": {
    "_uuid": "0c4985ed23bad5977bf379e3d990b46ba995401a"
   },
   "outputs": [],
   "source": [
    "# SibSp - Create dummy variables\n",
    "combdata = pd.get_dummies(combdata, columns = [\"SibSp\"])"
   ]
  },
  {
   "cell_type": "markdown",
   "metadata": {
    "_uuid": "ba81d3aaf560c5039e8dff62f144edead5752079"
   },
   "source": [
    "**Parch**"
   ]
  },
  {
   "cell_type": "code",
   "execution_count": 40,
   "metadata": {
    "_uuid": "4a9934a9b4027c800e6f225b324e25b0ccf37071"
   },
   "outputs": [],
   "source": [
    "# Parch - Create dummy variables\n",
    "combdata = pd.get_dummies(combdata, columns = [\"Parch\"])"
   ]
  },
  {
   "cell_type": "markdown",
   "metadata": {
    "_uuid": "c09df5ae58c3fc49d7d4490d77a6fe5022cff418"
   },
   "source": [
    "**Ticket**"
   ]
  },
  {
   "cell_type": "code",
   "execution_count": 41,
   "metadata": {
    "_uuid": "0e38e79e52bb92e25dd7b16b7d88a314e6cdff2a"
   },
   "outputs": [],
   "source": [
    "# Ticket - Extracting the ticket prefix. This might be a representation of class/compartment.\n",
    "# If there is no prefix replace with U (Unknown). \n",
    "\n",
    "Ticket = []\n",
    "for i in list(combdata.Ticket):\n",
    "    if not i.isdigit() :\n",
    "        Ticket.append(i.replace(\".\",\"\").replace(\"/\",\"\").strip().split(' ')[0])\n",
    "    else:\n",
    "        Ticket.append(\"U\")\n",
    "        \n",
    "combdata[\"Ticket\"] = Ticket\n",
    "combdata[\"Ticket\"].unique()\n",
    "\n",
    "combdata = pd.get_dummies(combdata, columns = [\"Ticket\"], prefix=\"T\")"
   ]
  },
  {
   "cell_type": "markdown",
   "metadata": {
    "_uuid": "bf2340c1cdf76be7442ab32f3e410468b400812e"
   },
   "source": [
    "**Fare**"
   ]
  },
  {
   "cell_type": "code",
   "execution_count": 42,
   "metadata": {
    "_uuid": "815fe7637105c910448ac2221ed3e96578b08712"
   },
   "outputs": [
    {
     "data": {
      "text/plain": [
       "1"
      ]
     },
     "execution_count": 42,
     "metadata": {},
     "output_type": "execute_result"
    }
   ],
   "source": [
    "# Fare - Check the number of missing value\n",
    "combdata[\"Fare\"].isnull().sum()"
   ]
  },
  {
   "cell_type": "code",
   "execution_count": 43,
   "metadata": {
    "_uuid": "a1f7e3a4455ca159c0ba9785b97ad105a2084a1a"
   },
   "outputs": [],
   "source": [
    "# Only 1 value is missing so we will fill the same with median\n",
    "combdata[\"Fare\"] = combdata[\"Fare\"].fillna(combdata[\"Fare\"].median())"
   ]
  },
  {
   "cell_type": "code",
   "execution_count": 44,
   "metadata": {
    "_uuid": "ebcdc043f960a06b132524c9af6840608721903b"
   },
   "outputs": [],
   "source": [
    "# Use the numpy fuction log1p which  applies log(1+x) to all elements of the column\n",
    "combdata[\"Fare\"] = np.log1p(combdata[\"Fare\"])\n",
    "\n",
    "#Check the new distribution \n",
    "# sns.distplot(combdata['Fare'] , fit=norm);"
   ]
  },
  {
   "cell_type": "code",
   "execution_count": 45,
   "metadata": {
    "_uuid": "4b9a797cc6b0cc16a50a65d1f8d4b20bd503dbec"
   },
   "outputs": [],
   "source": [
    "# Cabin - Replace the missing Cabin number by the type of cabin unknown 'U'\n",
    "combdata[\"Cabin\"] = pd.Series([i[0] if not pd.isnull(i) else 'U' for i in combdata['Cabin'] ])"
   ]
  },
  {
   "cell_type": "code",
   "execution_count": 46,
   "metadata": {
    "_uuid": "0cfbfce6ce3378547146fddec3f2d32825cb95a9"
   },
   "outputs": [
    {
     "data": {
      "image/png": "[encoded data removed]",
      "text/plain": [
       "<Figure size 504x504 with 1 Axes>"
      ]
     },
     "metadata": {},
     "output_type": "display_data"
    }
   ],
   "source": [
    "# Let's plot the survival probability by Cabin\n",
    "g  = sns.factorplot(x=\"Cabin\",y=\"Survived\",data=combdata,kind=\"bar\", size = 7 ,\n",
    "                    palette = \"muted\",order=['A','B','C','D','E','F','G','T','U'])\n",
    "g.despine(left=True)\n",
    "g = g.set_ylabels(\"survival probability\")"
   ]
  },
  {
   "cell_type": "code",
   "execution_count": 47,
   "metadata": {
    "_uuid": "e8a8253dea9e7100a1c5230ed7165ae49e84ede4"
   },
   "outputs": [],
   "source": [
    "# Create dummy variables\n",
    "combdata = pd.get_dummies(combdata, columns = [\"Cabin\"], prefix=\"Cabin\")"
   ]
  },
  {
   "cell_type": "markdown",
   "metadata": {
    "_uuid": "0f13c3f5f03fc2ed53edfb082b5fe52365884443"
   },
   "source": [
    "**Embarked**"
   ]
  },
  {
   "cell_type": "code",
   "execution_count": 48,
   "metadata": {
    "_uuid": "8b977f94cea926deaca1f13534da38f26ba38708"
   },
   "outputs": [],
   "source": [
    "# Embarked - Find the number of missing values\n",
    "combdata[\"Embarked\"].isnull().sum()\n",
    "\n",
    "# Fill Embarked missing values of dataset set with mode 'S'\n",
    "combdata[\"Embarked\"] = combdata[\"Embarked\"].fillna(\"S\")\n",
    "\n",
    "# Create dummy variables\n",
    "combdata = pd.get_dummies(combdata, columns = [\"Embarked\"], prefix=\"Emb\")"
   ]
  },
  {
   "cell_type": "markdown",
   "metadata": {
    "_uuid": "0491f97e6e64133708d42a6218351623a085857d"
   },
   "source": [
    "**Developing a Neural Network model**"
   ]
  },
  {
   "cell_type": "code",
   "execution_count": 49,
   "metadata": {
    "_uuid": "5ee73ac60fb25c223ca926e49bfa0f2bffef2cb2"
   },
   "outputs": [
    {
     "name": "stdout",
     "output_type": "stream",
     "text": [
      "<class 'pandas.core.frame.DataFrame'>\n",
      "Int64Index: 418 entries, 891 to 1308\n",
      "Data columns (total 75 columns):\n",
      "Age           418 non-null float64\n",
      "Fare          418 non-null float64\n",
      "Pclass        418 non-null int64\n",
      "Title         418 non-null int64\n",
      "Sex_female    418 non-null uint8\n",
      "Sex_male      418 non-null uint8\n",
      "Fsize         418 non-null int64\n",
      "Single        418 non-null int64\n",
      "SmallF        418 non-null int64\n",
      "MedF          418 non-null int64\n",
      "LargeF        418 non-null int64\n",
      "SibSp_0       418 non-null uint8\n",
      "SibSp_1       418 non-null uint8\n",
      "SibSp_2       418 non-null uint8\n",
      "SibSp_3       418 non-null uint8\n",
      "SibSp_4       418 non-null uint8\n",
      "SibSp_5       418 non-null uint8\n",
      "SibSp_8       418 non-null uint8\n",
      "Parch_0       418 non-null uint8\n",
      "Parch_1       418 non-null uint8\n",
      "Parch_2       418 non-null uint8\n",
      "Parch_3       418 non-null uint8\n",
      "Parch_4       418 non-null uint8\n",
      "Parch_5       418 non-null uint8\n",
      "Parch_6       418 non-null uint8\n",
      "Parch_9       418 non-null uint8\n",
      "T_A           418 non-null uint8\n",
      "T_A4          418 non-null uint8\n",
      "T_A5          418 non-null uint8\n",
      "T_AQ3         418 non-null uint8\n",
      "T_AQ4         418 non-null uint8\n",
      "T_AS          418 non-null uint8\n",
      "T_C           418 non-null uint8\n",
      "T_CA          418 non-null uint8\n",
      "T_CASOTON     418 non-null uint8\n",
      "T_FC          418 non-null uint8\n",
      "T_FCC         418 non-null uint8\n",
      "T_Fa          418 non-null uint8\n",
      "T_LINE        418 non-null uint8\n",
      "T_LP          418 non-null uint8\n",
      "T_PC          418 non-null uint8\n",
      "T_PP          418 non-null uint8\n",
      "T_PPP         418 non-null uint8\n",
      "T_SC          418 non-null uint8\n",
      "T_SCA3        418 non-null uint8\n",
      "T_SCA4        418 non-null uint8\n",
      "T_SCAH        418 non-null uint8\n",
      "T_SCOW        418 non-null uint8\n",
      "T_SCPARIS     418 non-null uint8\n",
      "T_SCParis     418 non-null uint8\n",
      "T_SOC         418 non-null uint8\n",
      "T_SOP         418 non-null uint8\n",
      "T_SOPP        418 non-null uint8\n",
      "T_SOTONO2     418 non-null uint8\n",
      "T_SOTONOQ     418 non-null uint8\n",
      "T_SP          418 non-null uint8\n",
      "T_STONO       418 non-null uint8\n",
      "T_STONO2      418 non-null uint8\n",
      "T_STONOQ      418 non-null uint8\n",
      "T_SWPP        418 non-null uint8\n",
      "T_U           418 non-null uint8\n",
      "T_WC          418 non-null uint8\n",
      "T_WEP         418 non-null uint8\n",
      "Cabin_A       418 non-null uint8\n",
      "Cabin_B       418 non-null uint8\n",
      "Cabin_C       418 non-null uint8\n",
      "Cabin_D       418 non-null uint8\n",
      "Cabin_E       418 non-null uint8\n",
      "Cabin_F       418 non-null uint8\n",
      "Cabin_G       418 non-null uint8\n",
      "Cabin_T       418 non-null uint8\n",
      "Cabin_U       418 non-null uint8\n",
      "Emb_C         418 non-null uint8\n",
      "Emb_Q         418 non-null uint8\n",
      "Emb_S         418 non-null uint8\n",
      "dtypes: float64(2), int64(7), uint8(66)\n",
      "memory usage: 59.6 KB\n"
     ]
    }
   ],
   "source": [
    "## Separate train dataset and test dataset using the index variable 'source'\n",
    "\n",
    "train_df = combdata.loc[combdata['source']==\"train\"]\n",
    "test_df = combdata.loc[combdata['source']==\"test\"]\n",
    "test_df.drop(labels=[\"Survived\"],axis = 1,inplace=True)\n",
    "\n",
    "train_df.drop(labels=[\"source\"],axis = 1,inplace=True)\n",
    "test_df.drop(labels=[\"source\"],axis = 1,inplace=True)\n",
    "\n",
    "test_df.info()"
   ]
  },
  {
   "cell_type": "code",
   "execution_count": 50,
   "metadata": {
    "_uuid": "73c6308d11cea01444a8ab89568c20c5725b7dac"
   },
   "outputs": [
    {
     "name": "stdout",
     "output_type": "stream",
     "text": [
      "<class 'pandas.core.frame.DataFrame'>\n",
      "Int64Index: 891 entries, 0 to 890\n",
      "Data columns (total 75 columns):\n",
      "Age           891 non-null float64\n",
      "Fare          891 non-null float64\n",
      "Pclass        891 non-null int64\n",
      "Title         891 non-null int64\n",
      "Sex_female    891 non-null uint8\n",
      "Sex_male      891 non-null uint8\n",
      "Fsize         891 non-null int64\n",
      "Single        891 non-null int64\n",
      "SmallF        891 non-null int64\n",
      "MedF          891 non-null int64\n",
      "LargeF        891 non-null int64\n",
      "SibSp_0       891 non-null uint8\n",
      "SibSp_1       891 non-null uint8\n",
      "SibSp_2       891 non-null uint8\n",
      "SibSp_3       891 non-null uint8\n",
      "SibSp_4       891 non-null uint8\n",
      "SibSp_5       891 non-null uint8\n",
      "SibSp_8       891 non-null uint8\n",
      "Parch_0       891 non-null uint8\n",
      "Parch_1       891 non-null uint8\n",
      "Parch_2       891 non-null uint8\n",
      "Parch_3       891 non-null uint8\n",
      "Parch_4       891 non-null uint8\n",
      "Parch_5       891 non-null uint8\n",
      "Parch_6       891 non-null uint8\n",
      "Parch_9       891 non-null uint8\n",
      "T_A           891 non-null uint8\n",
      "T_A4          891 non-null uint8\n",
      "T_A5          891 non-null uint8\n",
      "T_AQ3         891 non-null uint8\n",
      "T_AQ4         891 non-null uint8\n",
      "T_AS          891 non-null uint8\n",
      "T_C           891 non-null uint8\n",
      "T_CA          891 non-null uint8\n",
      "T_CASOTON     891 non-null uint8\n",
      "T_FC          891 non-null uint8\n",
      "T_FCC         891 non-null uint8\n",
      "T_Fa          891 non-null uint8\n",
      "T_LINE        891 non-null uint8\n",
      "T_LP          891 non-null uint8\n",
      "T_PC          891 non-null uint8\n",
      "T_PP          891 non-null uint8\n",
      "T_PPP         891 non-null uint8\n",
      "T_SC          891 non-null uint8\n",
      "T_SCA3        891 non-null uint8\n",
      "T_SCA4        891 non-null uint8\n",
      "T_SCAH        891 non-null uint8\n",
      "T_SCOW        891 non-null uint8\n",
      "T_SCPARIS     891 non-null uint8\n",
      "T_SCParis     891 non-null uint8\n",
      "T_SOC         891 non-null uint8\n",
      "T_SOP         891 non-null uint8\n",
      "T_SOPP        891 non-null uint8\n",
      "T_SOTONO2     891 non-null uint8\n",
      "T_SOTONOQ     891 non-null uint8\n",
      "T_SP          891 non-null uint8\n",
      "T_STONO       891 non-null uint8\n",
      "T_STONO2      891 non-null uint8\n",
      "T_STONOQ      891 non-null uint8\n",
      "T_SWPP        891 non-null uint8\n",
      "T_U           891 non-null uint8\n",
      "T_WC          891 non-null uint8\n",
      "T_WEP         891 non-null uint8\n",
      "Cabin_A       891 non-null uint8\n",
      "Cabin_B       891 non-null uint8\n",
      "Cabin_C       891 non-null uint8\n",
      "Cabin_D       891 non-null uint8\n",
      "Cabin_E       891 non-null uint8\n",
      "Cabin_F       891 non-null uint8\n",
      "Cabin_G       891 non-null uint8\n",
      "Cabin_T       891 non-null uint8\n",
      "Cabin_U       891 non-null uint8\n",
      "Emb_C         891 non-null uint8\n",
      "Emb_Q         891 non-null uint8\n",
      "Emb_S         891 non-null uint8\n",
      "dtypes: float64(2), int64(7), uint8(66)\n",
      "memory usage: 127.0 KB\n"
     ]
    }
   ],
   "source": [
    "## Separate train features and label \n",
    "\n",
    "train[\"Survived\"] = train[\"Survived\"].astype(int)\n",
    "Y_train = train[\"Survived\"]\n",
    "X_train = train_df.drop(labels = [\"Survived\"],axis = 1)\n",
    "\n",
    "X_train.info()"
   ]
  },
  {
   "cell_type": "code",
   "execution_count": 51,
   "metadata": {},
   "outputs": [
    {
     "name": "stderr",
     "output_type": "stream",
     "text": [
      "Using TensorFlow backend.\n"
     ]
    }
   ],
   "source": [
    "import keras \n",
    "from keras import backend as k\n",
    "\n",
    "from keras.callbacks import History \n",
    "from keras.models import Sequential # intitialize the ANN\n",
    "from keras.layers import Dense , Embedding, LSTM, Activation     # create layers\n",
    "from keras.layers.core import Dense\n",
    "from keras import regularizers"
   ]
  },
  {
   "cell_type": "code",
   "execution_count": 52,
   "metadata": {},
   "outputs": [],
   "source": [
    "# Initialising the NN\n",
    "model = Sequential()"
   ]
  },
  {
   "cell_type": "code",
   "execution_count": 53,
   "metadata": {
    "_uuid": "623f94275d0b96b29172752a4aa85845786ba331"
   },
   "outputs": [
    {
     "name": "stdout",
     "output_type": "stream",
     "text": [
      "Train on 623 samples, validate on 268 samples\n",
      "Epoch 1/120\n",
      "623/623 [==============================] - 0s 792us/step - loss: 0.6925 - acc: 0.6051 - val_loss: 0.6905 - val_acc: 0.6418\n",
      "Epoch 2/120\n",
      "623/623 [==============================] - 0s 45us/step - loss: 0.6904 - acc: 0.6051 - val_loss: 0.6879 - val_acc: 0.6418\n",
      "Epoch 3/120\n",
      "623/623 [==============================] - 0s 45us/step - loss: 0.6886 - acc: 0.6051 - val_loss: 0.6853 - val_acc: 0.6418\n",
      "Epoch 4/120\n",
      "623/623 [==============================] - 0s 45us/step - loss: 0.6864 - acc: 0.6051 - val_loss: 0.6814 - val_acc: 0.6418\n",
      "Epoch 5/120\n",
      "623/623 [==============================] - 0s 45us/step - loss: 0.6829 - acc: 0.6051 - val_loss: 0.6748 - val_acc: 0.6418\n",
      "Epoch 6/120\n",
      "623/623 [==============================] - 0s 45us/step - loss: 0.6770 - acc: 0.6051 - val_loss: 0.6647 - val_acc: 0.6418\n",
      "Epoch 7/120\n",
      "623/623 [==============================] - 0s 48us/step - loss: 0.6713 - acc: 0.6051 - val_loss: 0.6573 - val_acc: 0.6418\n",
      "Epoch 8/120\n",
      "623/623 [==============================] - 0s 46us/step - loss: 0.6673 - acc: 0.6051 - val_loss: 0.6508 - val_acc: 0.6418\n",
      "Epoch 9/120\n",
      "623/623 [==============================] - 0s 45us/step - loss: 0.6647 - acc: 0.6051 - val_loss: 0.6464 - val_acc: 0.6418\n",
      "Epoch 10/120\n",
      "623/623 [==============================] - 0s 46us/step - loss: 0.6626 - acc: 0.6051 - val_loss: 0.6429 - val_acc: 0.6418\n",
      "Epoch 11/120\n",
      "623/623 [==============================] - 0s 45us/step - loss: 0.6616 - acc: 0.6051 - val_loss: 0.6412 - val_acc: 0.6418\n",
      "Epoch 12/120\n",
      "623/623 [==============================] - 0s 46us/step - loss: 0.6593 - acc: 0.6051 - val_loss: 0.6387 - val_acc: 0.6418\n",
      "Epoch 13/120\n",
      "623/623 [==============================] - 0s 45us/step - loss: 0.6571 - acc: 0.6051 - val_loss: 0.6346 - val_acc: 0.6418\n",
      "Epoch 14/120\n",
      "623/623 [==============================] - 0s 46us/step - loss: 0.6549 - acc: 0.6051 - val_loss: 0.6324 - val_acc: 0.6418\n",
      "Epoch 15/120\n",
      "623/623 [==============================] - 0s 45us/step - loss: 0.6524 - acc: 0.6051 - val_loss: 0.6290 - val_acc: 0.6418\n",
      "Epoch 16/120\n",
      "623/623 [==============================] - 0s 44us/step - loss: 0.6490 - acc: 0.6051 - val_loss: 0.6242 - val_acc: 0.6418\n",
      "Epoch 17/120\n",
      "623/623 [==============================] - 0s 44us/step - loss: 0.6449 - acc: 0.6051 - val_loss: 0.6186 - val_acc: 0.6418\n",
      "Epoch 18/120\n",
      "623/623 [==============================] - 0s 45us/step - loss: 0.6390 - acc: 0.6051 - val_loss: 0.6107 - val_acc: 0.6418\n",
      "Epoch 19/120\n",
      "623/623 [==============================] - 0s 45us/step - loss: 0.6322 - acc: 0.6051 - val_loss: 0.6012 - val_acc: 0.6418\n",
      "Epoch 20/120\n",
      "623/623 [==============================] - 0s 44us/step - loss: 0.6239 - acc: 0.6051 - val_loss: 0.5906 - val_acc: 0.6418\n",
      "Epoch 21/120\n",
      "623/623 [==============================] - 0s 44us/step - loss: 0.6149 - acc: 0.6051 - val_loss: 0.5789 - val_acc: 0.6418\n",
      "Epoch 22/120\n",
      "623/623 [==============================] - 0s 44us/step - loss: 0.6054 - acc: 0.6051 - val_loss: 0.5701 - val_acc: 0.6418\n",
      "Epoch 23/120\n",
      "623/623 [==============================] - 0s 45us/step - loss: 0.5951 - acc: 0.6051 - val_loss: 0.5546 - val_acc: 0.6418\n",
      "Epoch 24/120\n",
      "623/623 [==============================] - 0s 44us/step - loss: 0.5872 - acc: 0.6051 - val_loss: 0.5449 - val_acc: 0.6418\n",
      "Epoch 25/120\n",
      "623/623 [==============================] - 0s 46us/step - loss: 0.5783 - acc: 0.6693 - val_loss: 0.5454 - val_acc: 0.7537\n",
      "Epoch 26/120\n",
      "623/623 [==============================] - 0s 46us/step - loss: 0.5761 - acc: 0.7303 - val_loss: 0.5305 - val_acc: 0.7500\n",
      "Epoch 27/120\n",
      "623/623 [==============================] - 0s 43us/step - loss: 0.5695 - acc: 0.7400 - val_loss: 0.5256 - val_acc: 0.7649\n",
      "Epoch 28/120\n",
      "623/623 [==============================] - 0s 43us/step - loss: 0.5637 - acc: 0.7448 - val_loss: 0.5188 - val_acc: 0.7687\n",
      "Epoch 29/120\n",
      "623/623 [==============================] - 0s 45us/step - loss: 0.5602 - acc: 0.7560 - val_loss: 0.5144 - val_acc: 0.7799\n",
      "Epoch 30/120\n",
      "623/623 [==============================] - 0s 44us/step - loss: 0.5549 - acc: 0.7689 - val_loss: 0.5081 - val_acc: 0.7836\n",
      "Epoch 31/120\n",
      "623/623 [==============================] - 0s 44us/step - loss: 0.5501 - acc: 0.7705 - val_loss: 0.5036 - val_acc: 0.7836\n",
      "Epoch 32/120\n",
      "623/623 [==============================] - 0s 44us/step - loss: 0.5461 - acc: 0.7657 - val_loss: 0.5038 - val_acc: 0.7836\n",
      "Epoch 33/120\n",
      "623/623 [==============================] - 0s 47us/step - loss: 0.5445 - acc: 0.7833 - val_loss: 0.4973 - val_acc: 0.7761\n",
      "Epoch 34/120\n",
      "623/623 [==============================] - 0s 48us/step - loss: 0.5405 - acc: 0.7801 - val_loss: 0.4947 - val_acc: 0.7761\n",
      "Epoch 35/120\n",
      "623/623 [==============================] - 0s 52us/step - loss: 0.5387 - acc: 0.7961 - val_loss: 0.4913 - val_acc: 0.7836\n",
      "Epoch 36/120\n",
      "623/623 [==============================] - 0s 44us/step - loss: 0.5340 - acc: 0.7961 - val_loss: 0.4887 - val_acc: 0.7873\n",
      "Epoch 37/120\n",
      "623/623 [==============================] - 0s 45us/step - loss: 0.5313 - acc: 0.7978 - val_loss: 0.4859 - val_acc: 0.7948\n",
      "Epoch 38/120\n",
      "623/623 [==============================] - 0s 44us/step - loss: 0.5310 - acc: 0.8074 - val_loss: 0.4835 - val_acc: 0.7873\n",
      "Epoch 39/120\n",
      "623/623 [==============================] - 0s 44us/step - loss: 0.5268 - acc: 0.8138 - val_loss: 0.4818 - val_acc: 0.7910\n",
      "Epoch 40/120\n",
      "623/623 [==============================] - 0s 45us/step - loss: 0.5252 - acc: 0.8090 - val_loss: 0.4808 - val_acc: 0.8134\n",
      "Epoch 41/120\n",
      "623/623 [==============================] - 0s 47us/step - loss: 0.5238 - acc: 0.8170 - val_loss: 0.4780 - val_acc: 0.7948\n",
      "Epoch 42/120\n",
      "623/623 [==============================] - 0s 46us/step - loss: 0.5224 - acc: 0.8154 - val_loss: 0.4767 - val_acc: 0.8060\n",
      "Epoch 43/120\n",
      "623/623 [==============================] - 0s 43us/step - loss: 0.5184 - acc: 0.8154 - val_loss: 0.4784 - val_acc: 0.8321\n",
      "Epoch 44/120\n",
      "623/623 [==============================] - 0s 44us/step - loss: 0.5186 - acc: 0.8138 - val_loss: 0.4739 - val_acc: 0.8134\n",
      "Epoch 45/120\n",
      "623/623 [==============================] - 0s 47us/step - loss: 0.5173 - acc: 0.8170 - val_loss: 0.4725 - val_acc: 0.8209\n",
      "Epoch 46/120\n",
      "623/623 [==============================] - 0s 46us/step - loss: 0.5141 - acc: 0.8283 - val_loss: 0.4711 - val_acc: 0.8097\n",
      "Epoch 47/120\n",
      "623/623 [==============================] - 0s 44us/step - loss: 0.5134 - acc: 0.8283 - val_loss: 0.4733 - val_acc: 0.7910\n",
      "Epoch 48/120\n",
      "623/623 [==============================] - 0s 46us/step - loss: 0.5109 - acc: 0.8218 - val_loss: 0.4699 - val_acc: 0.8321\n",
      "Epoch 49/120\n",
      "623/623 [==============================] - 0s 45us/step - loss: 0.5094 - acc: 0.8299 - val_loss: 0.4687 - val_acc: 0.7985\n",
      "Epoch 50/120\n",
      "623/623 [==============================] - 0s 47us/step - loss: 0.5089 - acc: 0.8250 - val_loss: 0.4664 - val_acc: 0.8284\n",
      "Epoch 51/120\n",
      "623/623 [==============================] - 0s 45us/step - loss: 0.5063 - acc: 0.8218 - val_loss: 0.4668 - val_acc: 0.8321\n",
      "Epoch 52/120\n",
      "623/623 [==============================] - 0s 44us/step - loss: 0.5042 - acc: 0.8266 - val_loss: 0.4656 - val_acc: 0.8060\n",
      "Epoch 53/120\n",
      "623/623 [==============================] - 0s 46us/step - loss: 0.5031 - acc: 0.8250 - val_loss: 0.4634 - val_acc: 0.8284\n",
      "Epoch 54/120\n",
      "623/623 [==============================] - 0s 45us/step - loss: 0.5032 - acc: 0.8218 - val_loss: 0.4621 - val_acc: 0.8134\n",
      "Epoch 55/120\n",
      "623/623 [==============================] - 0s 45us/step - loss: 0.4999 - acc: 0.8283 - val_loss: 0.4648 - val_acc: 0.7985\n",
      "Epoch 56/120\n",
      "623/623 [==============================] - 0s 45us/step - loss: 0.4997 - acc: 0.8315 - val_loss: 0.4596 - val_acc: 0.8246\n",
      "Epoch 57/120\n",
      "623/623 [==============================] - 0s 45us/step - loss: 0.4984 - acc: 0.8283 - val_loss: 0.4584 - val_acc: 0.8321\n",
      "Epoch 58/120\n",
      "623/623 [==============================] - 0s 46us/step - loss: 0.4966 - acc: 0.8283 - val_loss: 0.4585 - val_acc: 0.8172\n",
      "Epoch 59/120\n",
      "623/623 [==============================] - 0s 45us/step - loss: 0.4955 - acc: 0.8266 - val_loss: 0.4564 - val_acc: 0.8321\n",
      "Epoch 60/120\n",
      "623/623 [==============================] - 0s 46us/step - loss: 0.4943 - acc: 0.8283 - val_loss: 0.4552 - val_acc: 0.8321\n",
      "Epoch 61/120\n",
      "623/623 [==============================] - 0s 44us/step - loss: 0.4941 - acc: 0.8299 - val_loss: 0.4553 - val_acc: 0.8358\n",
      "Epoch 62/120\n",
      "623/623 [==============================] - 0s 45us/step - loss: 0.4912 - acc: 0.8266 - val_loss: 0.4549 - val_acc: 0.8172\n",
      "Epoch 63/120\n",
      "623/623 [==============================] - 0s 44us/step - loss: 0.4914 - acc: 0.8266 - val_loss: 0.4535 - val_acc: 0.8358\n",
      "Epoch 64/120\n",
      "623/623 [==============================] - 0s 45us/step - loss: 0.4878 - acc: 0.8299 - val_loss: 0.4508 - val_acc: 0.8358\n",
      "Epoch 65/120\n",
      "623/623 [==============================] - 0s 44us/step - loss: 0.4879 - acc: 0.8266 - val_loss: 0.4501 - val_acc: 0.8358\n",
      "Epoch 66/120\n",
      "623/623 [==============================] - 0s 45us/step - loss: 0.4889 - acc: 0.8331 - val_loss: 0.4499 - val_acc: 0.8396\n",
      "Epoch 67/120\n",
      "623/623 [==============================] - 0s 45us/step - loss: 0.4862 - acc: 0.8283 - val_loss: 0.4483 - val_acc: 0.8321\n",
      "Epoch 68/120\n",
      "623/623 [==============================] - 0s 45us/step - loss: 0.4859 - acc: 0.8283 - val_loss: 0.4502 - val_acc: 0.8396\n",
      "Epoch 69/120\n",
      "623/623 [==============================] - 0s 46us/step - loss: 0.4834 - acc: 0.8299 - val_loss: 0.4488 - val_acc: 0.8321\n",
      "Epoch 70/120\n",
      "623/623 [==============================] - 0s 44us/step - loss: 0.4838 - acc: 0.8266 - val_loss: 0.4473 - val_acc: 0.8321\n",
      "Epoch 71/120\n",
      "623/623 [==============================] - 0s 44us/step - loss: 0.4826 - acc: 0.8234 - val_loss: 0.4454 - val_acc: 0.8321\n",
      "Epoch 72/120\n",
      "623/623 [==============================] - 0s 45us/step - loss: 0.4826 - acc: 0.8266 - val_loss: 0.4450 - val_acc: 0.8321\n",
      "Epoch 73/120\n",
      "623/623 [==============================] - 0s 44us/step - loss: 0.4777 - acc: 0.8299 - val_loss: 0.4455 - val_acc: 0.8321\n",
      "Epoch 74/120\n",
      "623/623 [==============================] - 0s 46us/step - loss: 0.4800 - acc: 0.8299 - val_loss: 0.4455 - val_acc: 0.8396\n",
      "Epoch 75/120\n",
      "623/623 [==============================] - 0s 45us/step - loss: 0.4771 - acc: 0.8315 - val_loss: 0.4453 - val_acc: 0.8358\n",
      "Epoch 76/120\n",
      "623/623 [==============================] - 0s 48us/step - loss: 0.4780 - acc: 0.8299 - val_loss: 0.4412 - val_acc: 0.8358\n",
      "Epoch 77/120\n",
      "623/623 [==============================] - 0s 47us/step - loss: 0.4766 - acc: 0.8283 - val_loss: 0.4409 - val_acc: 0.8358\n",
      "Epoch 78/120\n",
      "623/623 [==============================] - 0s 47us/step - loss: 0.4750 - acc: 0.8347 - val_loss: 0.4440 - val_acc: 0.8321\n",
      "Epoch 79/120\n",
      "623/623 [==============================] - 0s 46us/step - loss: 0.4762 - acc: 0.8299 - val_loss: 0.4400 - val_acc: 0.8358\n",
      "Epoch 80/120\n",
      "623/623 [==============================] - 0s 45us/step - loss: 0.4751 - acc: 0.8347 - val_loss: 0.4388 - val_acc: 0.8358\n",
      "Epoch 81/120\n",
      "623/623 [==============================] - 0s 45us/step - loss: 0.4719 - acc: 0.8315 - val_loss: 0.4400 - val_acc: 0.8358\n",
      "Epoch 82/120\n",
      "623/623 [==============================] - 0s 44us/step - loss: 0.4734 - acc: 0.8299 - val_loss: 0.4376 - val_acc: 0.8358\n",
      "Epoch 83/120\n",
      "623/623 [==============================] - 0s 45us/step - loss: 0.4689 - acc: 0.8315 - val_loss: 0.4409 - val_acc: 0.8358\n",
      "Epoch 84/120\n",
      "623/623 [==============================] - 0s 45us/step - loss: 0.4691 - acc: 0.8315 - val_loss: 0.4432 - val_acc: 0.8358\n",
      "Epoch 85/120\n",
      "623/623 [==============================] - 0s 44us/step - loss: 0.4716 - acc: 0.8299 - val_loss: 0.4425 - val_acc: 0.8358\n",
      "Epoch 86/120\n",
      "623/623 [==============================] - 0s 45us/step - loss: 0.4689 - acc: 0.8299 - val_loss: 0.4352 - val_acc: 0.8358\n",
      "Epoch 87/120\n",
      "623/623 [==============================] - 0s 43us/step - loss: 0.4672 - acc: 0.8331 - val_loss: 0.4419 - val_acc: 0.8396\n",
      "Epoch 88/120\n",
      "623/623 [==============================] - 0s 43us/step - loss: 0.4696 - acc: 0.8315 - val_loss: 0.4342 - val_acc: 0.8358\n",
      "Epoch 89/120\n",
      "623/623 [==============================] - 0s 44us/step - loss: 0.4665 - acc: 0.8331 - val_loss: 0.4342 - val_acc: 0.8358\n",
      "Epoch 90/120\n",
      "623/623 [==============================] - 0s 44us/step - loss: 0.4653 - acc: 0.8315 - val_loss: 0.4348 - val_acc: 0.8358\n",
      "Epoch 91/120\n",
      "623/623 [==============================] - 0s 42us/step - loss: 0.4672 - acc: 0.8331 - val_loss: 0.4324 - val_acc: 0.8321\n",
      "Epoch 92/120\n",
      "623/623 [==============================] - 0s 43us/step - loss: 0.4645 - acc: 0.8331 - val_loss: 0.4312 - val_acc: 0.8321\n",
      "Epoch 93/120\n",
      "623/623 [==============================] - 0s 45us/step - loss: 0.4649 - acc: 0.8283 - val_loss: 0.4312 - val_acc: 0.8321\n",
      "Epoch 94/120\n",
      "623/623 [==============================] - 0s 44us/step - loss: 0.4623 - acc: 0.8299 - val_loss: 0.4322 - val_acc: 0.8358\n",
      "Epoch 95/120\n",
      "623/623 [==============================] - 0s 44us/step - loss: 0.4631 - acc: 0.8347 - val_loss: 0.4294 - val_acc: 0.8358\n",
      "Epoch 96/120\n",
      "623/623 [==============================] - 0s 44us/step - loss: 0.4623 - acc: 0.8331 - val_loss: 0.4295 - val_acc: 0.8358\n",
      "Epoch 97/120\n",
      "623/623 [==============================] - 0s 42us/step - loss: 0.4609 - acc: 0.8347 - val_loss: 0.4309 - val_acc: 0.8358\n",
      "Epoch 98/120\n",
      "623/623 [==============================] - 0s 46us/step - loss: 0.4589 - acc: 0.8299 - val_loss: 0.4340 - val_acc: 0.8433\n",
      "Epoch 99/120\n",
      "623/623 [==============================] - 0s 47us/step - loss: 0.4620 - acc: 0.8347 - val_loss: 0.4276 - val_acc: 0.8321\n",
      "Epoch 100/120\n",
      "623/623 [==============================] - 0s 44us/step - loss: 0.4586 - acc: 0.8363 - val_loss: 0.4282 - val_acc: 0.8321\n",
      "Epoch 101/120\n",
      "623/623 [==============================] - 0s 46us/step - loss: 0.4580 - acc: 0.8331 - val_loss: 0.4301 - val_acc: 0.8358\n",
      "Epoch 102/120\n",
      "623/623 [==============================] - 0s 45us/step - loss: 0.4590 - acc: 0.8331 - val_loss: 0.4262 - val_acc: 0.8321\n",
      "Epoch 103/120\n",
      "623/623 [==============================] - 0s 44us/step - loss: 0.4582 - acc: 0.8331 - val_loss: 0.4254 - val_acc: 0.8284\n",
      "Epoch 104/120\n",
      "623/623 [==============================] - 0s 45us/step - loss: 0.4575 - acc: 0.8299 - val_loss: 0.4268 - val_acc: 0.8358\n",
      "Epoch 105/120\n",
      "623/623 [==============================] - 0s 44us/step - loss: 0.4565 - acc: 0.8315 - val_loss: 0.4254 - val_acc: 0.8321\n",
      "Epoch 106/120\n",
      "623/623 [==============================] - 0s 44us/step - loss: 0.4542 - acc: 0.8331 - val_loss: 0.4249 - val_acc: 0.8284\n",
      "Epoch 107/120\n",
      "623/623 [==============================] - 0s 45us/step - loss: 0.4573 - acc: 0.8331 - val_loss: 0.4242 - val_acc: 0.8284\n",
      "Epoch 108/120\n",
      "623/623 [==============================] - 0s 44us/step - loss: 0.4540 - acc: 0.8315 - val_loss: 0.4240 - val_acc: 0.8321\n",
      "Epoch 109/120\n",
      "623/623 [==============================] - 0s 45us/step - loss: 0.4555 - acc: 0.8299 - val_loss: 0.4250 - val_acc: 0.8358\n",
      "Epoch 110/120\n",
      "623/623 [==============================] - 0s 45us/step - loss: 0.4531 - acc: 0.8331 - val_loss: 0.4234 - val_acc: 0.8321\n",
      "Epoch 111/120\n",
      "623/623 [==============================] - 0s 45us/step - loss: 0.4552 - acc: 0.8250 - val_loss: 0.4253 - val_acc: 0.8358\n",
      "Epoch 112/120\n",
      "623/623 [==============================] - 0s 44us/step - loss: 0.4524 - acc: 0.8299 - val_loss: 0.4225 - val_acc: 0.8321\n",
      "Epoch 113/120\n",
      "623/623 [==============================] - 0s 44us/step - loss: 0.4513 - acc: 0.8299 - val_loss: 0.4225 - val_acc: 0.8321\n",
      "Epoch 114/120\n",
      "623/623 [==============================] - 0s 44us/step - loss: 0.4505 - acc: 0.8299 - val_loss: 0.4251 - val_acc: 0.8321\n",
      "Epoch 115/120\n",
      "623/623 [==============================] - 0s 43us/step - loss: 0.4521 - acc: 0.8331 - val_loss: 0.4217 - val_acc: 0.8284\n",
      "Epoch 116/120\n",
      "623/623 [==============================] - 0s 42us/step - loss: 0.4492 - acc: 0.8266 - val_loss: 0.4227 - val_acc: 0.8321\n",
      "Epoch 117/120\n",
      "623/623 [==============================] - 0s 44us/step - loss: 0.4493 - acc: 0.8299 - val_loss: 0.4214 - val_acc: 0.8321\n",
      "Epoch 118/120\n",
      "623/623 [==============================] - 0s 51us/step - loss: 0.4500 - acc: 0.8331 - val_loss: 0.4229 - val_acc: 0.8433\n",
      "Epoch 119/120\n",
      "623/623 [==============================] - 0s 44us/step - loss: 0.4504 - acc: 0.8266 - val_loss: 0.4193 - val_acc: 0.8284\n",
      "Epoch 120/120\n",
      "623/623 [==============================] - 0s 43us/step - loss: 0.4485 - acc: 0.8299 - val_loss: 0.4196 - val_acc: 0.8321\n"
     ]
    },
    {
     "data": {
      "text/plain": [
       "<keras.callbacks.History at 0x7fb3d5d7d390>"
      ]
     },
     "execution_count": 53,
     "metadata": {},
     "output_type": "execute_result"
    }
   ],
   "source": [
    "# layers\n",
    "model.add(Dense(units = 9, kernel_initializer = 'uniform', activation = 'relu', input_dim = 75))\n",
    "model.add(Dense(units = 9, kernel_initializer = 'uniform', activation = 'relu', kernel_regularizer =regularizers.l2(0.01)))\n",
    "model.add(Dense(units = 5, kernel_initializer = 'uniform', activation = 'relu', kernel_regularizer =regularizers.l2(0.01)))\n",
    "model.add(Dense(units = 1, kernel_initializer = 'uniform', activation = 'sigmoid'))\n",
    "\n",
    "# Compiling the ANN\n",
    "model.compile(optimizer = 'rmsprop', loss = 'binary_crossentropy', metrics = ['accuracy'])\n",
    "\n",
    "# Train the ANN\n",
    "history = History()\n",
    "model.fit(X_train, Y_train, batch_size = 40, epochs = 120,validation_split=0.30, callbacks=[history])\n"
   ]
  },
  {
   "cell_type": "code",
   "execution_count": 54,
   "metadata": {},
   "outputs": [
    {
     "data": {
      "text/plain": [
       "dict_keys(['val_loss', 'val_acc', 'loss', 'acc'])"
      ]
     },
     "execution_count": 54,
     "metadata": {},
     "output_type": "execute_result"
    }
   ],
   "source": [
    "history_dict = history.history\n",
    "history_dict.keys()"
   ]
  },
  {
   "cell_type": "code",
   "execution_count": 55,
   "metadata": {},
   "outputs": [
    {
     "data": {
      "image/png": "[encoded data removed]",
      "text/plain": [
       "<Figure size 432x288 with 1 Axes>"
      ]
     },
     "metadata": {},
     "output_type": "display_data"
    },
    {
     "data": {
      "image/png": "[encoded data removed]",
      "text/plain": [
       "<Figure size 432x288 with 1 Axes>"
      ]
     },
     "metadata": {},
     "output_type": "display_data"
    }
   ],
   "source": [
    "# Plotting Results\n",
    "import matplotlib.pyplot as plt\n",
    "\n",
    "acc = history.history['acc']\n",
    "val_acc = history.history['val_acc']\n",
    "loss = history.history['loss']\n",
    "val_loss = history.history['val_loss']\n",
    "epochs = range(1, len(acc) + 1)\n",
    "\n",
    "plt.plot(epochs, acc, 'b', label='Training acc')\n",
    "plt.plot(epochs, val_acc, 'g', label='Validation acc')\n",
    "plt.xlabel('Epochs')\n",
    "plt.ylabel('Accuracy')\n",
    "\n",
    "plt.title('Training and validation accuracy')\n",
    "plt.legend()\n",
    "fig = plt.figure()\n",
    "fig.savefig('acc.png')\n",
    "\n",
    "\n",
    "plt.plot(epochs, loss, 'b', label='Training loss')\n",
    "plt.plot(epochs, val_loss, 'g', label='Validation loss')\n",
    "plt.xlabel('Epochs')\n",
    "plt.ylabel('Loss')\n",
    "plt.title('Training and validation loss')\n",
    "\n",
    "plt.legend()\n",
    "plt.show()"
   ]
  },
  {
   "cell_type": "markdown",
   "metadata": {},
   "source": [
    "From the plot of accuracy we can see that the training the model beyond vertain epoch is not helping much, however, we can also see that the model has not yet over-learned the training dataset, showing comparable skill on both datasets."
   ]
  },
  {
   "cell_type": "markdown",
   "metadata": {},
   "source": [
    "From the plot of loss, we can see that the model has comparable performance on both train and validation datasets (labeled test). If these parallel plots start to depart consistently, it might be a sign to stop training at an earlier epoch."
   ]
  },
  {
   "cell_type": "markdown",
   "metadata": {
    "_uuid": "444b6ad8d96ca8e1f874af5205683a625468daaf"
   },
   "source": [
    "**Predict using Neural Network**"
   ]
  },
  {
   "cell_type": "code",
   "execution_count": 56,
   "metadata": {
    "_uuid": "97aca9c4907fe7c5528dd8bad4599081c1cbd27f"
   },
   "outputs": [],
   "source": [
    "y_pred = model.predict(test_df)\n",
    "y_final = (y_pred > 0.5).astype(int).reshape(test_df.shape[0])\n",
    "output = pd.DataFrame({'PassengerId': IDtest['PassengerId'], 'Survived': y_final})\n",
    "output.to_csv('Neural Network Prediction.csv', index=False)"
   ]
  },
  {
   "cell_type": "markdown",
   "metadata": {},
   "source": [
    "The NN needs to be optimized for best results (WIP)"
   ]
  },
  {
   "cell_type": "markdown",
   "metadata": {
    "_uuid": "e7c95185405804050d876706e90cd2a78ccd051a"
   },
   "source": [
    "**Conclusion**\n",
    "\n",
    "Title, Sex_Female, Fare & PClass seems to be common features preferred for classification.\n",
    "\n",
    "While Title & Age feature represents the Age category of passengers the features like Fare, PClass, Cabin etc. represents the economic status. \n",
    "\n",
    "Based on our findings we can conclude that Age, Gender & features representing social/economic status were primary factors affecting the survival of passenger.\n",
    "\n",
    "**If you like this notebook or find this notebook helpful, Please upvote and/or leave a comment**"
   ]
  }
 ],
 "metadata": {
  "anaconda-cloud": {},
  "kernelspec": {
   "display_name": "Python 3",
   "language": "python",
   "name": "python3"
  },
  "language_info": {
   "codemirror_mode": {
    "name": "ipython",
    "version": 3
   },
   "file_extension": ".py",
   "mimetype": "text/x-python",
   "name": "python",
   "nbconvert_exporter": "python",
   "pygments_lexer": "ipython3",
   "version": "3.6.6"
  }
 },
 "nbformat": 4,
 "nbformat_minor": 1
}
